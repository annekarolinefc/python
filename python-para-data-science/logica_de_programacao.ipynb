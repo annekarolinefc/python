{
  "nbformat": 4,
  "nbformat_minor": 0,
  "metadata": {
    "colab": {
      "name": "logica-de-programacao.ipynb",
      "provenance": [],
      "collapsed_sections": [
        "V8KDRPxiUROJ",
        "83tLQqapq6Om",
        "BQpvL5QOrDWY",
        "qgrPlmnnrR-j",
        "N27nNcz_rVGo",
        "1nETdUt-VMbA",
        "uj_hc4O9V5OV",
        "c8_dvmg2Z2vj",
        "7oe_x8_EaQ15",
        "VBLVDytWa3MV",
        "OBCPdq2Ibaa1",
        "0S0fpZWfcIQx",
        "h9dYkwd9lHhE",
        "xi7c-xvFcaNH",
        "rTMcQVSwmxV-",
        "c6-XwKP2odST",
        "Vwunsnx8rojP"
      ]
    },
    "kernelspec": {
      "name": "python3",
      "display_name": "Python 3"
    },
    "language_info": {
      "name": "python"
    }
  },
  "cells": [
    {
      "cell_type": "markdown",
      "source": [
        "# Lógica de pogramação com Python"
      ],
      "metadata": {
        "id": "MxxqnPnFT9Wm"
      }
    },
    {
      "cell_type": "code",
      "execution_count": 1,
      "metadata": {
        "colab": {
          "base_uri": "https://localhost:8080/"
        },
        "id": "tEajOMFCTt33",
        "outputId": "2f5549c3-f793-45bd-a2a5-4f644fa1474b"
      },
      "outputs": [
        {
          "output_type": "execute_result",
          "data": {
            "text/plain": [
              "2"
            ]
          },
          "metadata": {},
          "execution_count": 1
        }
      ],
      "source": [
        "1+1"
      ]
    },
    {
      "cell_type": "code",
      "source": [
        "\"Anne\""
      ],
      "metadata": {
        "colab": {
          "base_uri": "https://localhost:8080/",
          "height": 36
        },
        "id": "dDNOAKgtUJLR",
        "outputId": "330fccb1-ebd5-4683-da2e-15e1d63dd3e5"
      },
      "execution_count": 2,
      "outputs": [
        {
          "output_type": "execute_result",
          "data": {
            "text/plain": [
              "'Anne'"
            ],
            "application/vnd.google.colaboratory.intrinsic+json": {
              "type": "string"
            }
          },
          "metadata": {},
          "execution_count": 2
        }
      ]
    },
    {
      "cell_type": "code",
      "source": [
        "'Anne'"
      ],
      "metadata": {
        "id": "nZONK0tGUPH4"
      },
      "execution_count": null,
      "outputs": []
    },
    {
      "cell_type": "markdown",
      "source": [
        "## Variáveis"
      ],
      "metadata": {
        "id": "V8KDRPxiUROJ"
      }
    },
    {
      "cell_type": "markdown",
      "source": [
        "Quando queremos guardar um valor, podemor pedir para o Python guardar esse valor em uma variável.\n",
        "**VARIÁVEL** é um nome que faz referência a um valor. \n",
        "O padrão utilizado para variáveis é o **snake case**: telefone_residencial, meu_nome, numero_de_cadastro."
      ],
      "metadata": {
        "id": "qqFmuxt7qsst"
      }
    },
    {
      "cell_type": "markdown",
      "source": [
        "### Tipo String"
      ],
      "metadata": {
        "id": "83tLQqapq6Om"
      }
    },
    {
      "cell_type": "code",
      "source": [
        "nome = 'Anne'"
      ],
      "metadata": {
        "id": "NSqbz5n5UUwn"
      },
      "execution_count": 4,
      "outputs": []
    },
    {
      "cell_type": "code",
      "source": [
        "nome"
      ],
      "metadata": {
        "colab": {
          "base_uri": "https://localhost:8080/",
          "height": 36
        },
        "id": "lDxdscrOUjL_",
        "outputId": "38aea9ed-66dc-430f-cbb7-f8ff8c463027"
      },
      "execution_count": 5,
      "outputs": [
        {
          "output_type": "execute_result",
          "data": {
            "text/plain": [
              "'Anne'"
            ],
            "application/vnd.google.colaboratory.intrinsic+json": {
              "type": "string"
            }
          },
          "metadata": {},
          "execution_count": 5
        }
      ]
    },
    {
      "cell_type": "code",
      "source": [
        "type(nome)"
      ],
      "metadata": {
        "colab": {
          "base_uri": "https://localhost:8080/"
        },
        "id": "s3z-yaRgrBeW",
        "outputId": "956460f4-b930-4101-fe31-b4111e9163fe"
      },
      "execution_count": 66,
      "outputs": [
        {
          "output_type": "execute_result",
          "data": {
            "text/plain": [
              "str"
            ]
          },
          "metadata": {},
          "execution_count": 66
        }
      ]
    },
    {
      "cell_type": "markdown",
      "source": [
        "### Tipo Float"
      ],
      "metadata": {
        "id": "BQpvL5QOrDWY"
      }
    },
    {
      "cell_type": "markdown",
      "source": [
        "Armazena um valor decimal."
      ],
      "metadata": {
        "id": "BeSRb0XzrK5H"
      }
    },
    {
      "cell_type": "code",
      "source": [
        "pi = 3.14"
      ],
      "metadata": {
        "id": "atGz2M9irFU0"
      },
      "execution_count": 67,
      "outputs": []
    },
    {
      "cell_type": "code",
      "source": [
        "type(pi)"
      ],
      "metadata": {
        "colab": {
          "base_uri": "https://localhost:8080/"
        },
        "id": "Tgoj4y_lrHe4",
        "outputId": "8d96eee2-9600-4806-cdd5-5195e6510c00"
      },
      "execution_count": 68,
      "outputs": [
        {
          "output_type": "execute_result",
          "data": {
            "text/plain": [
              "float"
            ]
          },
          "metadata": {},
          "execution_count": 68
        }
      ]
    },
    {
      "cell_type": "markdown",
      "source": [
        "### Tipo Int"
      ],
      "metadata": {
        "id": "qgrPlmnnrR-j"
      }
    },
    {
      "cell_type": "code",
      "source": [
        "idade = 29"
      ],
      "metadata": {
        "id": "RxAyXckyUhEn"
      },
      "execution_count": 13,
      "outputs": []
    },
    {
      "cell_type": "code",
      "source": [
        "type(idade)"
      ],
      "metadata": {
        "colab": {
          "base_uri": "https://localhost:8080/"
        },
        "id": "ZiXZq2QBrPPL",
        "outputId": "9144cc2e-b1b9-4f0b-f064-d098c0d9dd0f"
      },
      "execution_count": 69,
      "outputs": [
        {
          "output_type": "execute_result",
          "data": {
            "text/plain": [
              "int"
            ]
          },
          "metadata": {},
          "execution_count": 69
        }
      ]
    },
    {
      "cell_type": "markdown",
      "source": [
        "### Concatenação de variáveis"
      ],
      "metadata": {
        "id": "N27nNcz_rVGo"
      }
    },
    {
      "cell_type": "code",
      "source": [
        "print(f'O nome é {nome} e sua idade é {idade} anos.')"
      ],
      "metadata": {
        "colab": {
          "base_uri": "https://localhost:8080/"
        },
        "id": "T2l-byAIUtxS",
        "outputId": "1d3aa3b9-83ac-4468-cbde-9920dc1e4721"
      },
      "execution_count": 14,
      "outputs": [
        {
          "output_type": "stream",
          "name": "stdout",
          "text": [
            "O nome é Anne e sua idade é 29 anos.\n"
          ]
        }
      ]
    },
    {
      "cell_type": "code",
      "source": [
        "print('O nome é Anne e sua idade é 29 anos.')"
      ],
      "metadata": {
        "colab": {
          "base_uri": "https://localhost:8080/"
        },
        "id": "MtEnlfWWUl3X",
        "outputId": "d36e0fdc-81f7-4e54-f467-d207a009e0a5"
      },
      "execution_count": 9,
      "outputs": [
        {
          "output_type": "stream",
          "name": "stdout",
          "text": [
            "O nome é Anne e sua idade é 29 anos.\n"
          ]
        }
      ]
    },
    {
      "cell_type": "markdown",
      "source": [
        "## Criando minha primeira função"
      ],
      "metadata": {
        "id": "1nETdUt-VMbA"
      }
    },
    {
      "cell_type": "code",
      "source": [
        "def saudacao():\n",
        "  nome = input('Qual o seu nome?')\n",
        "  print(f'Olá, {nome}!')"
      ],
      "metadata": {
        "id": "Ouep_j8OVPuW"
      },
      "execution_count": 17,
      "outputs": []
    },
    {
      "cell_type": "code",
      "source": [
        "saudacao() "
      ],
      "metadata": {
        "colab": {
          "base_uri": "https://localhost:8080/"
        },
        "id": "1dMwIIflVrYt",
        "outputId": "4b16d08f-ee3b-4c51-f19a-a20c16908e68"
      },
      "execution_count": 18,
      "outputs": [
        {
          "output_type": "stream",
          "name": "stdout",
          "text": [
            "Qual o seu nome?Anne\n",
            "Olá, Anne\n"
          ]
        }
      ]
    },
    {
      "cell_type": "code",
      "source": [
        "def nome_completo():\n",
        " primeiro_nome = input('Qual seu primeiro nome? ')\n",
        " sobrenome = input('Qual seu sobrenome? ')\n",
        " nome_inteiro = primeiro_nome + ' ' + sobrenome\n",
        " print(nome_inteiro)"
      ],
      "metadata": {
        "id": "w_ueDa4kYjBs"
      },
      "execution_count": 19,
      "outputs": []
    },
    {
      "cell_type": "code",
      "source": [
        "nome_completo()"
      ],
      "metadata": {
        "colab": {
          "base_uri": "https://localhost:8080/"
        },
        "id": "lpWj7RMzYleZ",
        "outputId": "1e93cbce-3b6e-4d3b-cf74-126699f1d284"
      },
      "execution_count": 20,
      "outputs": [
        {
          "output_type": "stream",
          "name": "stdout",
          "text": [
            "Qual seu primeiro nome? Anne\n",
            "Qual seu sobrenome? Carmo\n",
            "Anne Carmo\n"
          ]
        }
      ]
    },
    {
      "cell_type": "markdown",
      "source": [
        "## Linguagem de alto nível"
      ],
      "metadata": {
        "id": "uj_hc4O9V5OV"
      }
    },
    {
      "cell_type": "markdown",
      "source": [
        "Linguagem mais perto da linguagem humana. É mais fácil de aprender."
      ],
      "metadata": {
        "id": "vSNrp2F1V-8a"
      }
    },
    {
      "cell_type": "markdown",
      "source": [
        "## Função com parâmetro"
      ],
      "metadata": {
        "id": "c8_dvmg2Z2vj"
      }
    },
    {
      "cell_type": "code",
      "source": [
        "nome = 'Anne'"
      ],
      "metadata": {
        "id": "UaP9ti4cZ2Fe"
      },
      "execution_count": 22,
      "outputs": []
    },
    {
      "cell_type": "code",
      "source": [
        "def saudacao_com_parametro(nome_da_pessoa):\n",
        "  print(f'Olá {nome_da_pessoa}!')\n"
      ],
      "metadata": {
        "id": "0sGKI0aeZ7k0"
      },
      "execution_count": 23,
      "outputs": []
    },
    {
      "cell_type": "code",
      "source": [
        "saudacao_com_parametro('Anne')"
      ],
      "metadata": {
        "colab": {
          "base_uri": "https://localhost:8080/"
        },
        "id": "nzzlUbdGaFX3",
        "outputId": "4c662eb3-05f1-4698-97ec-01630605da0e"
      },
      "execution_count": 24,
      "outputs": [
        {
          "output_type": "stream",
          "name": "stdout",
          "text": [
            "Olá Anne\n"
          ]
        }
      ]
    },
    {
      "cell_type": "markdown",
      "source": [
        "## Condicionais"
      ],
      "metadata": {
        "id": "7oe_x8_EaQ15"
      }
    },
    {
      "cell_type": "code",
      "source": [
        "idade = 20"
      ],
      "metadata": {
        "id": "Po7knw1laQLt"
      },
      "execution_count": 25,
      "outputs": []
    },
    {
      "cell_type": "code",
      "source": [
        "def verifica_se_pode_dirigir(idade):\n",
        "    if idade >=18:\n",
        "      print('Tem permissao para dirigir.')\n",
        "    else:\n",
        "      print('Não tem permissao para dirigir.')"
      ],
      "metadata": {
        "id": "xpVIjpHWaYHP"
      },
      "execution_count": 27,
      "outputs": []
    },
    {
      "cell_type": "code",
      "source": [
        "verifica_se_pode_dirigir(23)"
      ],
      "metadata": {
        "colab": {
          "base_uri": "https://localhost:8080/"
        },
        "id": "0Epphyw8apLh",
        "outputId": "004f12ec-7925-4501-8df5-c7133755ce46"
      },
      "execution_count": 28,
      "outputs": [
        {
          "output_type": "stream",
          "name": "stdout",
          "text": [
            "Tem permissao para dirigir.\n"
          ]
        }
      ]
    },
    {
      "cell_type": "markdown",
      "source": [
        "## Conversão de Tipos"
      ],
      "metadata": {
        "id": "VBLVDytWa3MV"
      }
    },
    {
      "cell_type": "markdown",
      "source": [
        "### Convertendo tipo para inteiro\n"
      ],
      "metadata": {
        "id": "OBCPdq2Ibaa1"
      }
    },
    {
      "cell_type": "code",
      "source": [
        "def verifica_se_pode_dirigir_sem_parametros():\n",
        "  idade = input(\"Qual é a sua idade?\")\n",
        "  idade = int(idade)\n",
        "  if idade >=18:\n",
        "      print('Tem permissao para dirigir.')\n",
        "  else:\n",
        "      print('Não tem permissao para dirigir.')"
      ],
      "metadata": {
        "id": "6gJPbhjXa6zw"
      },
      "execution_count": 33,
      "outputs": []
    },
    {
      "cell_type": "code",
      "source": [
        "verifica_se_pode_dirigir_sem_parametros()"
      ],
      "metadata": {
        "colab": {
          "base_uri": "https://localhost:8080/"
        },
        "id": "2aUPHvRObH_D",
        "outputId": "d3c71aa7-c53d-4a4f-bba9-d6889fbc5254"
      },
      "execution_count": 34,
      "outputs": [
        {
          "output_type": "stream",
          "name": "stdout",
          "text": [
            "Qual é a sua idade?29\n",
            "Tem permissao para dirigir.\n"
          ]
        }
      ]
    },
    {
      "cell_type": "markdown",
      "source": [
        "## Operadores do Python"
      ],
      "metadata": {
        "id": "0S0fpZWfcIQx"
      }
    },
    {
      "cell_type": "markdown",
      "source": [
        "a == b\n",
        "a != b\n",
        "a < b\n",
        "a > b\n",
        "a <= b\n",
        "a >= b\n",
        "  "
      ],
      "metadata": {
        "id": "RrIKmC2scLRJ"
      }
    },
    {
      "cell_type": "markdown",
      "source": [
        "## Verificando o Tipo de dados"
      ],
      "metadata": {
        "id": "h9dYkwd9lHhE"
      }
    },
    {
      "cell_type": "code",
      "source": [
        "nome = 'Anne'\n",
        "type(nome)"
      ],
      "metadata": {
        "colab": {
          "base_uri": "https://localhost:8080/"
        },
        "id": "Qmw2DbW7lJpR",
        "outputId": "42b41aa1-e518-406b-8423-4abaeabedf9d"
      },
      "execution_count": 35,
      "outputs": [
        {
          "output_type": "execute_result",
          "data": {
            "text/plain": [
              "str"
            ]
          },
          "metadata": {},
          "execution_count": 35
        }
      ]
    },
    {
      "cell_type": "markdown",
      "source": [
        "## Criando uma Lista"
      ],
      "metadata": {
        "id": "xi7c-xvFcaNH"
      }
    },
    {
      "cell_type": "markdown",
      "source": [
        "Uma lista pode armazenar elementos de diferentes tipos."
      ],
      "metadata": {
        "id": "T72iwOinxxPi"
      }
    },
    {
      "cell_type": "code",
      "source": [
        "idades = [18, 22, 15, 50]\n",
        "#          0   1   2   3"
      ],
      "metadata": {
        "id": "s-uajiUwcce-"
      },
      "execution_count": 39,
      "outputs": []
    },
    {
      "cell_type": "code",
      "source": [
        "idades[2]"
      ],
      "metadata": {
        "colab": {
          "base_uri": "https://localhost:8080/"
        },
        "id": "DWIwmSgelYFS",
        "outputId": "3642c5d3-dd48-4747-a6c8-6b5b43121182"
      },
      "execution_count": 37,
      "outputs": [
        {
          "output_type": "execute_result",
          "data": {
            "text/plain": [
              "15"
            ]
          },
          "metadata": {},
          "execution_count": 37
        }
      ]
    },
    {
      "cell_type": "code",
      "source": [
        "idades[0:2] \n",
        "# exclui elemento que esta após o :"
      ],
      "metadata": {
        "colab": {
          "base_uri": "https://localhost:8080/"
        },
        "id": "C-NpSy1jlpOH",
        "outputId": "5f06ff24-424d-437c-fd0d-20d9488c9826"
      },
      "execution_count": 42,
      "outputs": [
        {
          "output_type": "execute_result",
          "data": {
            "text/plain": [
              "[18, 22, 15]"
            ]
          },
          "metadata": {},
          "execution_count": 42
        }
      ]
    },
    {
      "cell_type": "code",
      "source": [
        "idades[0:3]"
      ],
      "metadata": {
        "colab": {
          "base_uri": "https://localhost:8080/"
        },
        "id": "R_UK-BHkmLQI",
        "outputId": "85848db8-d072-4d2d-870d-dc8824f99735"
      },
      "execution_count": 43,
      "outputs": [
        {
          "output_type": "execute_result",
          "data": {
            "text/plain": [
              "[18, 22, 15]"
            ]
          },
          "metadata": {},
          "execution_count": 43
        }
      ]
    },
    {
      "cell_type": "code",
      "source": [
        "idades[1:] \n",
        "#comença do elemento 1 e vai ate o final"
      ],
      "metadata": {
        "id": "vlM8Oc3fmM6S"
      },
      "execution_count": null,
      "outputs": []
    },
    {
      "cell_type": "code",
      "source": [
        "idades[-1]\n",
        "#obtendo o ultimo elemento\n",
        "\n",
        "#idades = [18, 22, 15, 50]\n",
        "#          0  -3   -2  -1"
      ],
      "metadata": {
        "colab": {
          "base_uri": "https://localhost:8080/"
        },
        "id": "hxLlXYeumWFg",
        "outputId": "abd1c2ad-3e7b-4d47-84ec-517db46cadef"
      },
      "execution_count": 45,
      "outputs": [
        {
          "output_type": "execute_result",
          "data": {
            "text/plain": [
              "50"
            ]
          },
          "metadata": {},
          "execution_count": 45
        }
      ]
    },
    {
      "cell_type": "code",
      "source": [
        "idades[-2]\n",
        "#obtendo o penultimo elemento"
      ],
      "metadata": {
        "colab": {
          "base_uri": "https://localhost:8080/"
        },
        "id": "v4UMTztAmoc_",
        "outputId": "cba33593-b2c4-415d-d94b-041527c6c7d2"
      },
      "execution_count": 46,
      "outputs": [
        {
          "output_type": "execute_result",
          "data": {
            "text/plain": [
              "15"
            ]
          },
          "metadata": {},
          "execution_count": 46
        }
      ]
    },
    {
      "cell_type": "markdown",
      "source": [
        "## Laços e Loops"
      ],
      "metadata": {
        "id": "rTMcQVSwmxV-"
      }
    },
    {
      "cell_type": "code",
      "source": [
        "idades = [18,22,15,20]"
      ],
      "metadata": {
        "id": "ayNmlwSJnAbF"
      },
      "execution_count": 47,
      "outputs": []
    },
    {
      "cell_type": "code",
      "source": [
        "#FOR fora da função\n",
        "def verifica_se_pode_dirigir(idade):\n",
        "    if idade >=18:\n",
        "      print(f' {idade} anos de itade, TEM permissao para dirigir.')\n",
        "    else:\n",
        "      print(f' {idade} anos de itade, NÃO TEM permissao para dirigir.')"
      ],
      "metadata": {
        "id": "c6fMuTTMm45z"
      },
      "execution_count": 49,
      "outputs": []
    },
    {
      "cell_type": "code",
      "source": [
        "#PARA CADA IDADE NA NOSSA LISTA, CHAMAR A FUNÇÃO\n",
        "for idade in idades:\n",
        "  verifica_se_pode_dirigir(idade)"
      ],
      "metadata": {
        "colab": {
          "base_uri": "https://localhost:8080/"
        },
        "id": "zeIHOnNKnGBj",
        "outputId": "1a0f430d-33d5-4588-a75a-aa04dbfae3a2"
      },
      "execution_count": 50,
      "outputs": [
        {
          "output_type": "stream",
          "name": "stdout",
          "text": [
            " 18 anos de itade, TEM permissao para dirigir.\n",
            " 22 anos de itade, TEM permissao para dirigir.\n",
            " 15 anos de itade, NÃO TEM permissao para dirigir.\n",
            " 20 anos de itade, TEM permissao para dirigir.\n"
          ]
        }
      ]
    },
    {
      "cell_type": "code",
      "source": [
        "#FOR dentro da função\n",
        "def verifica_se_pode_dirigir(idades):\n",
        "    for idade in idades:\n",
        "      if idade >=18:\n",
        "        print(f' {idade} anos de itade, TEM permissao para dirigir.')\n",
        "      else:\n",
        "        print(f' {idade} anos de itade, NÃO TEM permissao para dirigir.')"
      ],
      "metadata": {
        "id": "0tM770UvoKxd"
      },
      "execution_count": 51,
      "outputs": []
    },
    {
      "cell_type": "code",
      "source": [
        "verifica_se_pode_dirigir(idades)"
      ],
      "metadata": {
        "colab": {
          "base_uri": "https://localhost:8080/"
        },
        "id": "nafVrLZ2oR7z",
        "outputId": "55d71e38-d0b4-48d1-f719-d02ec2081594"
      },
      "execution_count": 52,
      "outputs": [
        {
          "output_type": "stream",
          "name": "stdout",
          "text": [
            " 18 anos de itade, TEM permissao para dirigir.\n",
            " 22 anos de itade, TEM permissao para dirigir.\n",
            " 15 anos de itade, NÃO TEM permissao para dirigir.\n",
            " 20 anos de itade, TEM permissao para dirigir.\n"
          ]
        }
      ]
    },
    {
      "cell_type": "markdown",
      "source": [
        "## Tipo Booleano"
      ],
      "metadata": {
        "id": "c6-XwKP2odST"
      }
    },
    {
      "cell_type": "code",
      "source": [
        "idade = 18\n",
        "idade >= 18 #TRUE"
      ],
      "metadata": {
        "colab": {
          "base_uri": "https://localhost:8080/"
        },
        "id": "zBq58sfwof0R",
        "outputId": "f8663ec2-2053-468b-f230-acc14362086a"
      },
      "execution_count": 53,
      "outputs": [
        {
          "output_type": "execute_result",
          "data": {
            "text/plain": [
              "True"
            ]
          },
          "metadata": {},
          "execution_count": 53
        }
      ]
    },
    {
      "cell_type": "code",
      "source": [
        "idade = 15\n",
        "idade >= 18 #FALSE"
      ],
      "metadata": {
        "colab": {
          "base_uri": "https://localhost:8080/"
        },
        "id": "iXYa_HlvomMR",
        "outputId": "d8843220-1343-41f2-dfe8-24ee592854fa"
      },
      "execution_count": 54,
      "outputs": [
        {
          "output_type": "execute_result",
          "data": {
            "text/plain": [
              "False"
            ]
          },
          "metadata": {},
          "execution_count": 54
        }
      ]
    },
    {
      "cell_type": "code",
      "source": [
        "permissoes = []\n",
        "idades = [20, 14, 40]\n",
        "\n",
        "def verifica_se_pode_dirigir(idades, permissoes):\n",
        "  for idade in idades:\n",
        "    if idade >= 18:\n",
        "      permissoes.append(True)\n",
        "    else: \n",
        "      permissoes.append(False)"
      ],
      "metadata": {
        "id": "GXUlFMC_orhv"
      },
      "execution_count": 63,
      "outputs": []
    },
    {
      "cell_type": "code",
      "source": [
        "permissoes = []\n",
        "idades = [20, 14, 40]\n",
        "\n",
        "verifica_se_pode_dirigir(idades, permissoes)"
      ],
      "metadata": {
        "id": "qtAPnO8EpB0d"
      },
      "execution_count": 64,
      "outputs": []
    },
    {
      "cell_type": "code",
      "source": [
        "permissoes"
      ],
      "metadata": {
        "colab": {
          "base_uri": "https://localhost:8080/"
        },
        "id": "AK619kmDpwyq",
        "outputId": "9829c01e-1b10-4fa9-aba8-2c48ef8e0a95"
      },
      "execution_count": 65,
      "outputs": [
        {
          "output_type": "execute_result",
          "data": {
            "text/plain": [
              "[True, False, True]"
            ]
          },
          "metadata": {},
          "execution_count": 65
        }
      ]
    },
    {
      "cell_type": "markdown",
      "source": [
        "## Tipos em uma lista"
      ],
      "metadata": {
        "id": "Vwunsnx8rojP"
      }
    },
    {
      "cell_type": "markdown",
      "source": [
        "Em uma mesma lista, posso ter diversos tipos."
      ],
      "metadata": {
        "id": "XHbtyv_XsDlM"
      }
    },
    {
      "cell_type": "code",
      "source": [
        "lista = ['Anne', 29, True, '18']\n",
        "for elemento in lista:\n",
        "  print(f'O elemento {elemento} é do tipo: ', type(elemento))"
      ],
      "metadata": {
        "colab": {
          "base_uri": "https://localhost:8080/"
        },
        "id": "j57Z0A29rtBL",
        "outputId": "38a4e830-027c-4149-e144-9c53c8e38c35"
      },
      "execution_count": 71,
      "outputs": [
        {
          "output_type": "stream",
          "name": "stdout",
          "text": [
            "O elemento Anne é do tipo:  <class 'str'>\n",
            "O elemento 29 é do tipo:  <class 'int'>\n",
            "O elemento True é do tipo:  <class 'bool'>\n",
            "O elemento 18 é do tipo:  <class 'str'>\n"
          ]
        }
      ]
    },
    {
      "cell_type": "markdown",
      "source": [
        "## Imports"
      ],
      "metadata": {
        "id": "MoI0-UsWsRDV"
      }
    },
    {
      "cell_type": "markdown",
      "source": [
        "Incluir um trecho de código já existente. Ao importar o randrange e o seed do módulo random, estamos importando um método que poderá ser usado em nosso programa. \n"
      ],
      "metadata": {
        "id": "Rgm39NZPsWEa"
      }
    },
    {
      "cell_type": "code",
      "source": [
        "#VERIFICANDO O TIPO\n",
        "from random import randrange\n",
        "type(randrange)"
      ],
      "metadata": {
        "colab": {
          "base_uri": "https://localhost:8080/"
        },
        "id": "0P-5Gnunxkks",
        "outputId": "fc0fab36-9135-433e-c258-9bff5063da12"
      },
      "execution_count": 86,
      "outputs": [
        {
          "output_type": "execute_result",
          "data": {
            "text/plain": [
              "method"
            ]
          },
          "metadata": {},
          "execution_count": 86
        }
      ]
    },
    {
      "cell_type": "markdown",
      "source": [
        "Importando o randrange e o seed do módulo random:"
      ],
      "metadata": {
        "id": "j-9AOUzmsfng"
      }
    },
    {
      "cell_type": "code",
      "source": [
        "from random import randrange, seed\n",
        "seed(10)\n",
        "randrange(0, 11) # -> valores de 0 a 10"
      ],
      "metadata": {
        "colab": {
          "base_uri": "https://localhost:8080/"
        },
        "id": "OCCWvkSqsTY_",
        "outputId": "d1824713-f76b-427b-e46b-8a6a6a4ee889"
      },
      "execution_count": 84,
      "outputs": [
        {
          "output_type": "execute_result",
          "data": {
            "text/plain": [
              "9"
            ]
          },
          "metadata": {},
          "execution_count": 84
        }
      ]
    },
    {
      "cell_type": "code",
      "source": [
        "notas_matematica = []\n",
        "for notas in range(8): #gerar notas 8 vezes\n",
        "  notas_matematica.append(randrange(0, 11)) #adicionar uma nota na lista\n",
        "notas_matematica"
      ],
      "metadata": {
        "colab": {
          "base_uri": "https://localhost:8080/"
        },
        "id": "2PDkv9akswxj",
        "outputId": "fc72744b-d346-482a-b7e1-e0137b652e18"
      },
      "execution_count": 98,
      "outputs": [
        {
          "output_type": "execute_result",
          "data": {
            "text/plain": [
              "[5, 3, 5, 10, 8, 7, 6, 7]"
            ]
          },
          "metadata": {},
          "execution_count": 98
        }
      ]
    },
    {
      "cell_type": "code",
      "source": [
        "#Tamanho da lista\n",
        "len(notas_matematica)"
      ],
      "metadata": {
        "colab": {
          "base_uri": "https://localhost:8080/"
        },
        "id": "-O2qTllVtEOo",
        "outputId": "a14a1d9c-29a1-49ba-f9c7-0b30170ea6db"
      },
      "execution_count": 81,
      "outputs": [
        {
          "output_type": "execute_result",
          "data": {
            "text/plain": [
              "8"
            ]
          },
          "metadata": {},
          "execution_count": 81
        }
      ]
    },
    {
      "cell_type": "markdown",
      "source": [
        "## Matplotlib | Criando um gráfico"
      ],
      "metadata": {
        "id": "mt7bE1RNyFcz"
      }
    },
    {
      "cell_type": "markdown",
      "source": [
        "Utilizando a **biblioteca Matplotlib**. Gráfico de notas x provas."
      ],
      "metadata": {
        "id": "WWG4nWLpyNAy"
      }
    },
    {
      "cell_type": "code",
      "source": [
        "import matplotlib.pyplot as plt\n"
      ],
      "metadata": {
        "id": "VUJB3rteyKkV"
      },
      "execution_count": 88,
      "outputs": []
    },
    {
      "cell_type": "code",
      "source": [
        "x = list(range(1,9)) #gerando oito numeros na sequencia\n",
        "x"
      ],
      "metadata": {
        "colab": {
          "base_uri": "https://localhost:8080/"
        },
        "id": "1WdYIabDyubC",
        "outputId": "4617d7d8-b528-407c-c69f-6edcf6c33452"
      },
      "execution_count": 91,
      "outputs": [
        {
          "output_type": "execute_result",
          "data": {
            "text/plain": [
              "[1, 2, 3, 4, 5, 6, 7, 8]"
            ]
          },
          "metadata": {},
          "execution_count": 91
        }
      ]
    },
    {
      "cell_type": "code",
      "source": [
        "y = notas_matematica\n",
        "y"
      ],
      "metadata": {
        "colab": {
          "base_uri": "https://localhost:8080/"
        },
        "id": "UL0uPS-My9Kp",
        "outputId": "c733fd52-f334-4f20-a729-92649cd14efe"
      },
      "execution_count": 100,
      "outputs": [
        {
          "output_type": "execute_result",
          "data": {
            "text/plain": [
              "[5, 3, 5, 10, 8, 7, 6, 7]"
            ]
          },
          "metadata": {},
          "execution_count": 100
        }
      ]
    },
    {
      "cell_type": "code",
      "source": [
        "x = list(range(1,9)) #gerando oito numeros na sequencia\n",
        "y = notas_matematica\n",
        "plt.plot(x,y, marker='o')\n",
        "plt.title('Notas de matemática')\n",
        "plt.xlabel('Provas')\n",
        "plt.ylabel('Notas')\n",
        "plt.show()"
      ],
      "metadata": {
        "colab": {
          "base_uri": "https://localhost:8080/",
          "height": 295
        },
        "id": "siqXirhdznKF",
        "outputId": "9eed66d3-815e-423a-a61b-1c6794df8f7d"
      },
      "execution_count": 105,
      "outputs": [
        {
          "output_type": "display_data",
          "data": {
            "text/plain": [
              "<Figure size 432x288 with 1 Axes>"
            ],
            "image/png": "[encoded data removed]"
          },
          "metadata": {
            "needs_background": "light"
          }
        }
      ]
    },
    {
      "cell_type": "code",
      "source": [
        "import matplotlib.pyplot as plt\n",
        "\n",
        "notas_matematica = ['Matemática',8,7,6,6,7,7,8,10]\n",
        "notas_portugues = ['Português',9,9,9,8,5,6,8,5]\n",
        "notas_geografia = ['Geografia',10,10,6,7,7,7,8,7]\n",
        "\n",
        "notas = [notas_matematica, notas_portugues, notas_geografia]\n",
        "\n",
        "\n",
        "for nota in notas:\n",
        " x = list(range(1, 9))\n",
        " y = nota[1:]\n",
        " plt.plot(x, y, marker='o')\n",
        " plt.xlabel('Provas')\n",
        " plt.ylabel('Notas')\n",
        " plt.title(nota[0])\n",
        " plt.show()"
      ],
      "metadata": {
        "colab": {
          "base_uri": "https://localhost:8080/",
          "height": 851
        },
        "id": "reOBx_Ic0x0H",
        "outputId": "ebf95001-2160-45cc-edfa-eba38ab4da1e"
      },
      "execution_count": 108,
      "outputs": [
        {
          "output_type": "display_data",
          "data": {
            "text/plain": [
              "<Figure size 432x288 with 1 Axes>"
            ],
            "image/png": "[encoded data removed]"
          },
          "metadata": {
            "needs_background": "light"
          }
        },
        {
          "output_type": "display_data",
          "data": {
            "text/plain": [
              "<Figure size 432x288 with 1 Axes>"
            ],
            "image/png": "[encoded data removed]"
          },
          "metadata": {
            "needs_background": "light"
          }
        },
        {
          "output_type": "display_data",
          "data": {
            "text/plain": [
              "<Figure size 432x288 with 1 Axes>"
            ],
            "image/png": "[encoded data removed]"
          },
          "metadata": {
            "needs_background": "light"
          }
        }
      ]
    }
  ]
}