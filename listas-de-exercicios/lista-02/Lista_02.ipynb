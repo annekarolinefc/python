{
  "nbformat": 4,
  "nbformat_minor": 0,
  "metadata": {
    "colab": {
      "name": "Lista_02.ipynb",
      "provenance": []
    },
    "kernelspec": {
      "name": "python3",
      "display_name": "Python 3"
    },
    "language_info": {
      "name": "python"
    }
  },
  "cells": [
    {
      "cell_type": "code",
      "execution_count": null,
      "metadata": {
        "id": "9Wr2DCdm0HWA"
      },
      "outputs": [],
      "source": [
        ""
      ]
    },
    {
      "cell_type": "markdown",
      "source": [
        "# Exercícios – Pandas\n"
      ],
      "metadata": {
        "id": "BHjeB0629CG9"
      }
    },
    {
      "cell_type": "markdown",
      "source": [
        "## Exercício 1\n"
      ],
      "metadata": {
        "id": "tx5FSJVL9ELj"
      }
    },
    {
      "cell_type": "markdown",
      "source": [
        "Leia o arquivo actors.csv e faça os seguintes cálculos sobre o conjunto de dados utilizando Pandas\n",
        "• O ator/atriz com maior número de filmes e o respectivo número de filmes.\n",
        "• A média do número de filmes.\n",
        "• O ator/atriz com a maior média por filme.\n",
        "• O nome do(s) filme(s) mais frequente(s) e sua respectiva frequência."
      ],
      "metadata": {
        "id": "binhh88j9H0m"
      }
    },
    {
      "cell_type": "markdown",
      "source": [
        "## Exercício 2"
      ],
      "metadata": {
        "id": "nWD2WEDA9MLy"
      }
    },
    {
      "cell_type": "markdown",
      "source": [
        "Leia o arquivo csv googleplaystore.csv e realize as seguintes atividades sobre o dataset utilizando Pandas:\n",
        "• Faça um gráfico de barras contendo os top 5 apps por número de instalação.\n",
        "• Faça um gráfico de pizza (pie chart) mostrando as categorias de apps existentes no dataset\n",
        "de acordo com a frequência em que elas aparecem.\n",
        "• Mostre qual o app mais caro existente no dataset.\n",
        "• Mostre quantos apps são classificados como “Mature 17+”.\n",
        "• Mostre o top 10 apps por número de reviews bem como o respectivo número de reviews.\n",
        "Ordene a lista de forma decrescente por número de reviews.\n"
      ],
      "metadata": {
        "id": "LPs1uDK69Pqb"
      }
    },
    {
      "cell_type": "markdown",
      "source": [
        "## Exercício 3"
      ],
      "metadata": {
        "id": "8vbRm1Cv9NMB"
      }
    },
    {
      "cell_type": "markdown",
      "source": [
        "Leia o arquivo csv wines_SPA.csv e realize as seguintes atividades sobre o dataset utilizando Pandas:\n",
        "• Mostre qual a vinícola (winery) que possui o maior número de reviews (num_reviews) nos\n",
        "últimos 20 anos.\n",
        "• Mostre quais são as 5 regiões com a média de preço mais alta e mais baixa.\n",
        "• A acidez (acidity) varia entre valores até 5, mostre a média de acidez por ano em todo o\n",
        "intervalo existente na coluna ano (year).\n",
        "• Mostre qual vinho (wine) possui o maior número de safras em todo o intervalo existente na\n",
        "coluna ano (year)."
      ],
      "metadata": {
        "id": "-vfelwj59R-e"
      }
    },
    {
      "cell_type": "markdown",
      "source": [
        "# Exercícios – NumPy\n"
      ],
      "metadata": {
        "id": "QsU7ZCbV9VP_"
      }
    },
    {
      "cell_type": "markdown",
      "source": [
        "## Exercício 1"
      ],
      "metadata": {
        "id": "ZiBBsXje9Y6a"
      }
    },
    {
      "cell_type": "markdown",
      "source": [
        "Crie um array 5x5 com a sequência 1...25 (incluso) e faça a soma dos elementos da diagonal.\n"
      ],
      "metadata": {
        "id": "Ypi5uYDJ-Xfd"
      }
    },
    {
      "cell_type": "markdown",
      "source": [
        "## Exercício 2"
      ],
      "metadata": {
        "id": "HL-wwNhm-EDM"
      }
    },
    {
      "cell_type": "markdown",
      "source": [
        "Crie um array 5x5 com a sequência de números pares entre 0...50 (incluso) e faça as seguintes operações:\n",
        "• Soma das linhas\n",
        "• Soma das Colunas\n",
        "• Média dos elementos da última linha\n",
        "• Média dos elementos da última coluna\n"
      ],
      "metadata": {
        "id": "UMJKWuse-ZrP"
      }
    },
    {
      "cell_type": "markdown",
      "source": [
        "## Exercício 3"
      ],
      "metadata": {
        "id": "B140IVs3-E7i"
      }
    },
    {
      "cell_type": "markdown",
      "source": [
        "Dado o array 2D abaixo, substitua o seu maior valor por 0.\n",
        "• np.random.normal(0, 3, size=(5, 5))\n"
      ],
      "metadata": {
        "id": "InvlKZGRA3PJ"
      }
    },
    {
      "cell_type": "markdown",
      "source": [
        "## Exercício 4"
      ],
      "metadata": {
        "id": "XjCxZr-T-F9B"
      }
    },
    {
      "cell_type": "markdown",
      "source": [
        "A partir das arrays abaixo, caso seja possível, realize o produto das mesmas:\n",
        "• np.random.uniform(size=(5, 3))\n",
        "• np.random.uniform(size=(3, 4))"
      ],
      "metadata": {
        "id": "kZl7I8MRA5xE"
      }
    },
    {
      "cell_type": "markdown",
      "source": [
        "## Exercício 5"
      ],
      "metadata": {
        "id": "vkrFtkUS-HS0"
      }
    },
    {
      "cell_type": "markdown",
      "source": [
        "Dado o array abaixo, converta-o para um array do tipo int32.\n",
        "• np.arange(9, dtype=np.float32).reshape(3, 3)\n"
      ],
      "metadata": {
        "id": "O_9j76VwA8Qx"
      }
    },
    {
      "cell_type": "markdown",
      "source": [
        "## Exercício 6"
      ],
      "metadata": {
        "id": "VOKbl08k-Iao"
      }
    },
    {
      "cell_type": "markdown",
      "source": [
        "Dado o array abaixo, some 10 em todos os elementos da última coluna.\n",
        "• np.random.uniform(size=(8, 8))"
      ],
      "metadata": {
        "id": "i0yQwiSYA-11"
      }
    },
    {
      "cell_type": "markdown",
      "source": [
        "## Exercício 7"
      ],
      "metadata": {
        "id": "Z1HbcM5p-Jyk"
      }
    },
    {
      "cell_type": "markdown",
      "source": [
        "Dados os dois arrays 2x4 abaixo, empilhe ambos formando um novo array 4x4.\n",
        "• np.array([[0,3,4,5], [7, 10, 9, 2]])\n",
        "• np.array([[1,4,9,12], [15, 22, 19, 17]])\n"
      ],
      "metadata": {
        "id": "NweOu3YWBA1_"
      }
    },
    {
      "cell_type": "markdown",
      "source": [
        "## Exercício 8"
      ],
      "metadata": {
        "id": "siB_1UYM-LBP"
      }
    },
    {
      "cell_type": "markdown",
      "source": [
        "Dado o array definido por np.arange(25).reshape(5, 5), realize as seguintes operações sem utilizar nenhum\n",
        "tipo de loop (for / while):\n",
        "• A média das linhas 0, 2 e 3.\n",
        "• A média das colunas 0, 1 e 4.\n",
        "• A soma dos elementos das duas diagonais."
      ],
      "metadata": {
        "id": "gVPJxgHWBDSW"
      }
    },
    {
      "cell_type": "markdown",
      "source": [
        "## Exercício 9"
      ],
      "metadata": {
        "id": "I-Utxm83-MTY"
      }
    },
    {
      "cell_type": "markdown",
      "source": [
        "Dado o array abaixo, selecione os valores Pares e todos os valores maiores que 8, seu código não deve conter\n",
        "nenhum tipo de loop (for / while):\n",
        "• np.arange(25).reshape(5, 5)"
      ],
      "metadata": {
        "id": "4SqjsKnkBHHZ"
      }
    },
    {
      "cell_type": "markdown",
      "source": [
        "## Exercício 10"
      ],
      "metadata": {
        "id": "RLvbJmoL-NYH"
      }
    },
    {
      "cell_type": "markdown",
      "source": [
        "Dado o array 2D abaixo, substitua os 5 menores valores por -1, seu código não deve conter nenhum tipo de\n",
        "loop (for / while):\n",
        "• a = np.random.randint(0, 50, (5, 5))"
      ],
      "metadata": {
        "id": "Qkv0edZcBW6O"
      }
    }
  ]
}