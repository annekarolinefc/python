{
  "nbformat": 4,
  "nbformat_minor": 0,
  "metadata": {
    "colab": {
      "name": "Lista_01.ipynb",
      "provenance": []
    },
    "kernelspec": {
      "name": "python3",
      "display_name": "Python 3"
    },
    "language_info": {
      "name": "python"
    }
  },
  "cells": [
    {
      "cell_type": "markdown",
      "source": [
        "# Exercícios – Parte 1"
      ],
      "metadata": {
        "id": "53FrqpUi0dun"
      }
    },
    {
      "cell_type": "markdown",
      "source": [
        "## Exercício 1"
      ],
      "metadata": {
        "id": "-0V2u3zb0gkv"
      }
    },
    {
      "cell_type": "markdown",
      "source": [
        "Escreva um código Python que lê do teclado o nome e a idade de um usuário e imprime o ano em que o\n",
        "usuário completará 100 anos.\n",
        "Dica: você pode ler strings digitadas no teclado utilizando a função builtin input('mensagem'). Lembre-se de\n",
        "converter números para seu respectivo tipo (int ou float) antes fazer operações aritméticas.\n"
      ],
      "metadata": {
        "id": "NI2RVFYg1SJt"
      }
    },
    {
      "cell_type": "code",
      "source": [
        "nome = input('Insira seu nome: ')\n",
        "idade = input('Insira usa idade: ')\n",
        "idade = int(idade)\n",
        "ano_atual = 2022\n",
        "ano = 100-idade+2022;\n",
        "print(f'{nome} irá completar 100 anos em {ano}.')"
      ],
      "metadata": {
        "colab": {
          "base_uri": "https://localhost:8080/"
        },
        "id": "NAWL7Q7i7Z_y",
        "outputId": "6320ec45-e810-45d5-ab99-0d6fc0ad1417"
      },
      "execution_count": 7,
      "outputs": [
        {
          "output_type": "stream",
          "name": "stdout",
          "text": [
            "Insira seu nome: Anne\n",
            "Insira usa idade: 29\n",
            "Anne irá completar 100 anos em 2093.\n"
          ]
        }
      ]
    },
    {
      "cell_type": "markdown",
      "source": [
        "## Exercício 2"
      ],
      "metadata": {
        "id": "PQTB6-0E0iEC"
      }
    },
    {
      "cell_type": "markdown",
      "source": [
        "Escreva um código Python que lê do teclado um número digitado pelo usuário e imprime se ele par ou ímpar"
      ],
      "metadata": {
        "id": "dcIZlsu51gMq"
      }
    },
    {
      "cell_type": "code",
      "source": [
        "numero = input('Digite um numero: ')\n",
        "numero = int(numero)\n",
        "if (numero%2==0):\n",
        "  print(f'{numero} é par.')\n",
        "else :\n",
        "  print(f'{numero} é impar.')"
      ],
      "metadata": {
        "colab": {
          "base_uri": "https://localhost:8080/"
        },
        "id": "K9zpRpAQ8PBg",
        "outputId": "0e46dac8-c69f-4b3e-d5e1-e8a9bc9d5aeb"
      },
      "execution_count": 13,
      "outputs": [
        {
          "output_type": "stream",
          "name": "stdout",
          "text": [
            "Digite um numero: 13\n",
            "13 é impar.\n"
          ]
        }
      ]
    },
    {
      "cell_type": "markdown",
      "source": [
        "## Exercício 3"
      ],
      "metadata": {
        "id": "-TNUUYrP0pPx"
      }
    },
    {
      "cell_type": "markdown",
      "source": [
        "Escreva um código Python que imprime os números pares de 0 até 20 (incluso).\n",
        "Dica: olhe a documentação da função range(). Mais informações no link\n"
      ],
      "metadata": {
        "id": "bArkXx6J1jit"
      }
    },
    {
      "cell_type": "code",
      "source": [
        "from random import randrange\n",
        "array_de_numeros = []\n",
        "for numeros in range(21):\n",
        "  numeros\n",
        "  array_de_numeros.append(numeros)\n",
        "\n",
        "array_de_numeros_pares = []\n",
        "\n",
        "for elemento in array_de_numeros:\n",
        "  if (elemento%2==0):\n",
        "    array_de_numeros_pares.append(elemento)\n",
        "\n",
        "array_de_numeros_pares"
      ],
      "metadata": {
        "colab": {
          "base_uri": "https://localhost:8080/"
        },
        "id": "dPfKz_3-_NjG",
        "outputId": "8cf3104d-ca5e-450c-a951-bc25a48847ed"
      },
      "execution_count": 21,
      "outputs": [
        {
          "output_type": "execute_result",
          "data": {
            "text/plain": [
              "[0, 2, 4, 6, 8, 10, 12, 14, 16, 18, 20]"
            ]
          },
          "metadata": {},
          "execution_count": 21
        }
      ]
    },
    {
      "cell_type": "markdown",
      "source": [
        "## Exercício 4"
      ],
      "metadata": {
        "id": "51OOhh_o0q13"
      }
    },
    {
      "cell_type": "markdown",
      "source": [
        "Escreva um código Python que imprime todos os números primos de 0 até 100.\n"
      ],
      "metadata": {
        "id": "HWrKgCNU1rRV"
      }
    },
    {
      "cell_type": "code",
      "source": [
        "numeros = []\n",
        "numeros_primos = []\n",
        "for numero in range(0, 101):\n",
        "  numeros.append(numero);\n",
        "\n",
        "for elemento in numeros:\n",
        "  if (elemento%elemento==1)"
      ],
      "metadata": {
        "colab": {
          "base_uri": "https://localhost:8080/"
        },
        "id": "S5C8o7kTATU3",
        "outputId": "cb06813a-b601-41fe-c2d2-26f2528e1abb"
      },
      "execution_count": 22,
      "outputs": [
        {
          "output_type": "execute_result",
          "data": {
            "text/plain": [
              "[0,\n",
              " 1,\n",
              " 2,\n",
              " 3,\n",
              " 4,\n",
              " 5,\n",
              " 6,\n",
              " 7,\n",
              " 8,\n",
              " 9,\n",
              " 10,\n",
              " 11,\n",
              " 12,\n",
              " 13,\n",
              " 14,\n",
              " 15,\n",
              " 16,\n",
              " 17,\n",
              " 18,\n",
              " 19,\n",
              " 20,\n",
              " 21,\n",
              " 22,\n",
              " 23,\n",
              " 24,\n",
              " 25,\n",
              " 26,\n",
              " 27,\n",
              " 28,\n",
              " 29,\n",
              " 30,\n",
              " 31,\n",
              " 32,\n",
              " 33,\n",
              " 34,\n",
              " 35,\n",
              " 36,\n",
              " 37,\n",
              " 38,\n",
              " 39,\n",
              " 40,\n",
              " 41,\n",
              " 42,\n",
              " 43,\n",
              " 44,\n",
              " 45,\n",
              " 46,\n",
              " 47,\n",
              " 48,\n",
              " 49,\n",
              " 50,\n",
              " 51,\n",
              " 52,\n",
              " 53,\n",
              " 54,\n",
              " 55,\n",
              " 56,\n",
              " 57,\n",
              " 58,\n",
              " 59,\n",
              " 60,\n",
              " 61,\n",
              " 62,\n",
              " 63,\n",
              " 64,\n",
              " 65,\n",
              " 66,\n",
              " 67,\n",
              " 68,\n",
              " 69,\n",
              " 70,\n",
              " 71,\n",
              " 72,\n",
              " 73,\n",
              " 74,\n",
              " 75,\n",
              " 76,\n",
              " 77,\n",
              " 78,\n",
              " 79,\n",
              " 80,\n",
              " 81,\n",
              " 82,\n",
              " 83,\n",
              " 84,\n",
              " 85,\n",
              " 86,\n",
              " 87,\n",
              " 88,\n",
              " 89,\n",
              " 90,\n",
              " 91,\n",
              " 92,\n",
              " 93,\n",
              " 94,\n",
              " 95,\n",
              " 96,\n",
              " 97,\n",
              " 98,\n",
              " 99,\n",
              " 100]"
            ]
          },
          "metadata": {},
          "execution_count": 22
        }
      ]
    },
    {
      "cell_type": "markdown",
      "source": [
        "## Exercício 5\n"
      ],
      "metadata": {
        "id": "H9rrX9PG0q9g"
      }
    },
    {
      "cell_type": "markdown",
      "source": [
        "Escreva um código Python que lê do teclado um dia, um mês e um ano e imprime a data completa no\n",
        "formato a seguir:\n",
        "Exemplo: 22/10/2022"
      ],
      "metadata": {
        "id": "oI6uVZ_11tfs"
      }
    },
    {
      "cell_type": "code",
      "source": [
        "dia = input('Insira o dia: ')\n",
        "mes = input('Insira o mês: ')\n",
        "ano = input('Insira o ano: ')\n",
        "\n",
        "print(dia, mes, ano, sep=\n",
        "      ('/'))"
      ],
      "metadata": {
        "colab": {
          "base_uri": "https://localhost:8080/"
        },
        "id": "-arJO7Nk67Xr",
        "outputId": "86e9d5d2-9935-4049-91d5-cde758e9b5a3"
      },
      "execution_count": 4,
      "outputs": [
        {
          "output_type": "stream",
          "name": "stdout",
          "text": [
            "Insira o dia: 22\n",
            "Insira o mês: 10\n",
            "Insira o ano: 2022\n",
            "22/10/2022\n"
          ]
        }
      ]
    },
    {
      "cell_type": "markdown",
      "source": [
        "# Exercícios – Parte 2"
      ],
      "metadata": {
        "id": "HxN9tOwd10wz"
      }
    },
    {
      "cell_type": "markdown",
      "source": [
        "## Exercício 1"
      ],
      "metadata": {
        "id": "9_zFz1Nj12n2"
      }
    },
    {
      "cell_type": "markdown",
      "source": [
        "Dada duas listas como no exemplo abaixo:\n",
        " a = [1, 1, 2, 3, 5, 8, 13, 21, 34, 55, 89]\n",
        " b = [1, 2, 3, 4, 5, 6, 7, 8, 9, 10, 11, 12, 13]\n",
        "Escreve um programa que retorne o que as litas têm comum (sem repetições). O seu programa deve\n",
        "funcionar para listas de qualquer tamanho.\n"
      ],
      "metadata": {
        "id": "P9G45UWe2IwR"
      }
    },
    {
      "cell_type": "markdown",
      "source": [
        "## Exercício 2"
      ],
      "metadata": {
        "id": "NmrZIH2d15RC"
      }
    },
    {
      "cell_type": "markdown",
      "source": [
        "Dada a seguinte lista:\n",
        "a = [1, 4, 9, 16, 25, 36, 49, 64, 81, 100]\n",
        "Faça um programa que gere uma nova lista contendo apenas números ímpares.\n"
      ],
      "metadata": {
        "id": "QR5CKxDC2Ns9"
      }
    },
    {
      "cell_type": "markdown",
      "source": [
        "## Exercício 3"
      ],
      "metadata": {
        "id": "1_e1c0rC16ag"
      }
    },
    {
      "cell_type": "markdown",
      "source": [
        "Peça para o usuário digitar uma palavra pelo teclado e determina se a palavra digitada é ou não um\n",
        "palíndromo. Um palíndromo é uma palavra que permanece igual se lida de traz pra frente.\n"
      ],
      "metadata": {
        "id": "wnnL0IOv2Qmu"
      }
    },
    {
      "cell_type": "markdown",
      "source": [
        "## Exercício 4"
      ],
      "metadata": {
        "id": "3F39NIWQ17lk"
      }
    },
    {
      "cell_type": "markdown",
      "source": [
        "Dada as listas a seguir:\n",
        "primeirosNomes = ['Joao', 'Douglas', 'Lucas', 'José']\n",
        "sobreNomes = ['Soares', 'Souza', 'Silveira', 'Pedreira']\n",
        "idades = [19, 28, 25, 31]\n",
        "Faça um programa que imprima os dados na seguinte estrutura: \" - está com anos\"\n"
      ],
      "metadata": {
        "id": "tZe2VdPX2TnA"
      }
    },
    {
      "cell_type": "markdown",
      "source": [
        "## Exercício 5"
      ],
      "metadata": {
        "id": "duTJNJ5s1-HC"
      }
    },
    {
      "cell_type": "markdown",
      "source": [
        "Escreva uma função que recebe uma lista e retorna uma nova lista sem elementos duplicados. Utilize um\n",
        "exemplo para testar sua função"
      ],
      "metadata": {
        "id": "e3hn33Uv2Z0k"
      }
    },
    {
      "cell_type": "markdown",
      "source": [
        "## Exercício 6"
      ],
      "metadata": {
        "id": "bM8EuhJ22elc"
      }
    },
    {
      "cell_type": "markdown",
      "source": [
        "Escreva um programa que lê o conteúdo do arquivo texto arquivo_texto.txt e imprime o seu conteúdo.\n",
        "Dica: leia documentação da função open(...), link: https://docs.python.org/3/library/functions.html#open\n"
      ],
      "metadata": {
        "id": "Bp84TIUs2uye"
      }
    },
    {
      "cell_type": "markdown",
      "source": [
        "## Exercício 7"
      ],
      "metadata": {
        "id": "R7LNTCUA2fob"
      }
    },
    {
      "cell_type": "markdown",
      "source": [
        "Leia o arquivo person.json, faça o parsing e imprima seu conteúdo.\n",
        "Dica: leia a documentação do pacote json, link: https://docs.python.org/3/library/json.html\n"
      ],
      "metadata": {
        "id": "nABTFeC82xrq"
      }
    },
    {
      "cell_type": "markdown",
      "source": [
        "## Exercício 8"
      ],
      "metadata": {
        "id": "m0WlP5rr2goN"
      }
    },
    {
      "cell_type": "markdown",
      "source": [
        "Implemente a função my_map(list, f) que recebe uma lista como primeiro argumento e uma função como\n",
        "segundo argumento. Esta função aplica a função recebida para cada elemento da lista recebida retorna o\n",
        "resultado em uma nova lista.\n",
        "Teste sua função para saber se está ok"
      ],
      "metadata": {
        "id": "jUEATQis20g1"
      }
    },
    {
      "cell_type": "markdown",
      "source": [
        "## Exercício 9"
      ],
      "metadata": {
        "id": "5cacDHT02hlK"
      }
    },
    {
      "cell_type": "markdown",
      "source": [
        "Escreva uma função que recebe um número variável de parâmetros não nomeados e um número variado de\n",
        "parâmetros nomeados e imprime o valor de cada parâmetro recebido."
      ],
      "metadata": {
        "id": "4HNGdN6422iF"
      }
    },
    {
      "cell_type": "markdown",
      "source": [
        "## Exercício 10"
      ],
      "metadata": {
        "id": "hHIrU1S42jZQ"
      }
    },
    {
      "cell_type": "markdown",
      "source": [
        "Implemente a classe Lampada. A classe Lâmpada recebe um booleano no seu construtor, True se a lâmpada\n",
        "estiver ligada, False caso esteja desligada. A classe Lampada possuí os seguintes métodos:\n",
        "• liga(): muda o estado da lâmpada para ligada\n",
        "• desliga(): muda o estado da lâmpada para desligada\n",
        "• esta_ligada(): retorna verdadeiro se a lâmpada estiver ligada, falso caso contrário"
      ],
      "metadata": {
        "id": "_a5d8Yx825Yd"
      }
    },
    {
      "cell_type": "markdown",
      "source": [
        "## Exercício 11"
      ],
      "metadata": {
        "id": "XS3fEs832klf"
      }
    },
    {
      "cell_type": "markdown",
      "source": [
        "Escreva um programa que leia do teclado uma sequência de número separados por vírgula (e.g. 2,4,5,6,1,6) e\n",
        "imprime a soma de todos eles.\n"
      ],
      "metadata": {
        "id": "GMWHAp6C28wB"
      }
    },
    {
      "cell_type": "markdown",
      "source": [
        "## Exercício 12"
      ],
      "metadata": {
        "id": "NQC-4lZU2lug"
      }
    },
    {
      "cell_type": "markdown",
      "source": [
        "Escreve uma função que recebe como parâmetro uma lista e retorna 3 listas: a lista recebida dividida em 3\n",
        "partes iguais. Teste sua implementação\n",
        "b = [1, 2, 3, 4, 5, 6, 7, 8, 9, 10, 11, 12, 13]"
      ],
      "metadata": {
        "id": "T2MtQzBX2-9X"
      }
    },
    {
      "cell_type": "markdown",
      "source": [
        "## Exercício 13"
      ],
      "metadata": {
        "id": "MritdD1u2nNJ"
      }
    },
    {
      "cell_type": "markdown",
      "source": [
        "Dado o dicionário a seguir:\n",
        "speed = {'jan':47, 'feb':52, 'march':47, 'April':44, 'May':52, 'June':53, 'july':54, 'Aug':44, 'Sept':54}\n",
        "Crie uma lista com todos os valores (não as chaves!) e coloque numa lista de forma que não haja valores\n",
        "duplicados."
      ],
      "metadata": {
        "id": "uC9UllTL3Cjo"
      }
    },
    {
      "cell_type": "markdown",
      "source": [
        "## Exercício 14"
      ],
      "metadata": {
        "id": "obsBdWbj2pDe"
      }
    },
    {
      "cell_type": "markdown",
      "source": [
        "Calcule o valor mínimo, valor máximo, valor médio e a mediana da lista gerada na célula abaixo:\n",
        "Obs.: Lembrem-se, para calcular a mediana a lista deve estar ordenada!\n"
      ],
      "metadata": {
        "id": "MYIA1XBw3HsA"
      }
    },
    {
      "cell_type": "markdown",
      "source": [
        "## Exercício 15"
      ],
      "metadata": {
        "id": "qjsdQkOs2qai"
      }
    },
    {
      "cell_type": "markdown",
      "source": [
        "Imprima a lista da célula abaixo de trás para frente.\n",
        "a = [1, 1, 2, 3, 5, 8, 13, 21, 34, 55, 89]"
      ],
      "metadata": {
        "id": "boeh3Tlo3Q8g"
      }
    },
    {
      "cell_type": "code",
      "source": [
        ""
      ],
      "metadata": {
        "id": "eslOWtuu6WJc"
      },
      "execution_count": null,
      "outputs": []
    }
  ]
}