{
 "cells": [
  {
   "cell_type": "markdown",
   "metadata": {
    "id": "HxN9tOwd10wz"
   },
   "source": [
    "# Exercícios – Parte 2"
   ]
  },
  {
   "cell_type": "markdown",
   "metadata": {
    "id": "9_zFz1Nj12n2"
   },
   "source": [
    "## Exercício 1"
   ]
  },
  {
   "cell_type": "markdown",
   "metadata": {
    "id": "P9G45UWe2IwR"
   },
   "source": [
    "Dada duas listas como no exemplo abaixo:\n",
    "\n",
    " a = [1, 1, 2, 3, 5, 8, 13, 21, 34, 55, 89]\n",
    "\n",
    " b = [1, 2, 3, 4, 5, 6, 7, 8, 9, 10, 11, 12, 13]\n",
    " \n",
    "Escreve um programa que retorne o que as listas têm comum (sem repetições). O seu programa deve\n",
    "funcionar para listas de qualquer tamanho.\n"
   ]
  },
  {
   "cell_type": "code",
   "execution_count": 6,
   "metadata": {},
   "outputs": [
    {
     "name": "stdout",
     "output_type": "stream",
     "text": [
      "[1, 1, 2, 3, 5, 8, 13]\n",
      "[1, 3, 8]\n"
     ]
    }
   ],
   "source": [
    "a = [1, 1, 2, 3, 5, 8, 13, 21, 34, 55, 89]\n",
    "b = [1, 2, 3, 4, 5, 6, 7, 8, 9, 10, 11, 12, 13]\n",
    " \n",
    "elementos_em_comum = []\n",
    "for elem_a in a:\n",
    "    for elem_b in b:\n",
    "        if elem_a==elem_b:\n",
    "            elementos_em_comum.append(elem_a)\n",
    "\n",
    "print(elementos_em_comum)"
   ]
  },
  {
   "cell_type": "code",
   "execution_count": 34,
   "metadata": {},
   "outputs": [],
   "source": [
    "a = [1, 1, 2, 3, 5, 8, 13, 21, 34, 55, 89]\n",
    "b = [1, 2, 3, 4, 5, 6, 7, 8, 9, 10, 11, 12, 13]"
   ]
  },
  {
   "cell_type": "markdown",
   "metadata": {
    "id": "NmrZIH2d15RC"
   },
   "source": [
    "## Exercício 2"
   ]
  },
  {
   "cell_type": "markdown",
   "metadata": {
    "id": "QR5CKxDC2Ns9"
   },
   "source": [
    "Dada a seguinte lista:\n",
    "a = [1, 4, 9, 16, 25, 36, 49, 64, 81, 100]\n",
    "\n",
    "Faça um programa que gere uma nova lista contendo apenas números ímpares.\n"
   ]
  },
  {
   "cell_type": "code",
   "execution_count": 7,
   "metadata": {},
   "outputs": [
    {
     "name": "stdout",
     "output_type": "stream",
     "text": [
      "[1, 9, 25, 49, 81]\n"
     ]
    }
   ],
   "source": [
    "a = [1, 4, 9, 16, 25, 36, 49, 64, 81, 100]\n",
    "\n",
    "lista_numeros_impares = []\n",
    "\n",
    "for x in a:\n",
    "    if (x%2!=0):\n",
    "        lista_numeros_impares.append(x)\n",
    "        \n",
    "print(lista_numeros_impares)"
   ]
  },
  {
   "cell_type": "code",
   "execution_count": 9,
   "metadata": {},
   "outputs": [
    {
     "name": "stdout",
     "output_type": "stream",
     "text": [
      "[True, False, True, False, True, False, True, False, True, False]\n"
     ]
    }
   ],
   "source": [
    "a = [1, 4, 9, 16, 25, 36, 49, 64, 81, 100]\n",
    "\n",
    "new_a = list(map(lambda numeros: numeros%2!=0, a))\n",
    "\n",
    "print(new_a)"
   ]
  },
  {
   "cell_type": "markdown",
   "metadata": {
    "id": "1_e1c0rC16ag"
   },
   "source": [
    "## Exercício 3"
   ]
  },
  {
   "cell_type": "markdown",
   "metadata": {
    "id": "wnnL0IOv2Qmu"
   },
   "source": [
    "Peça para o usuário digitar uma palavra pelo teclado e determina se a palavra digitada é ou não um\n",
    "palíndromo. Um palíndromo é uma palavra que permanece igual se lida de traz pra frente.\n"
   ]
  },
  {
   "cell_type": "code",
   "execution_count": 16,
   "metadata": {},
   "outputs": [
    {
     "name": "stdout",
     "output_type": "stream",
     "text": [
      "ola\n",
      "ola\n",
      "A palavra digitada é um palíndromo.\n"
     ]
    }
   ],
   "source": [
    "palavra = input('Digite uma palavra: ')\n",
    "\n",
    "if str(palavra) == str(palavra)[::1]:\n",
    "    print(\"A palavra digitada é um palíndromo.\")\n",
    "else:\n",
    "    print(\"A palavra digitada nao é um palíndromo.\")"
   ]
  },
  {
   "cell_type": "code",
   "execution_count": 19,
   "metadata": {},
   "outputs": [
    {
     "name": "stdout",
     "output_type": "stream",
     "text": [
      "A palavra digitada é um palíndromo.\n"
     ]
    }
   ],
   "source": [
    "palavra = input('Digite uma palavra: ')\n",
    "\n",
    "if palavra == ''.join(reversed(palavra)):\n",
    "    print(\"A palavra digitada é um palíndromo.\")\n",
    "else:\n",
    "    print(\"A palavra digitada nao é um palíndromo.\")"
   ]
  },
  {
   "cell_type": "markdown",
   "metadata": {
    "id": "3F39NIWQ17lk"
   },
   "source": [
    "## Exercício 4"
   ]
  },
  {
   "cell_type": "markdown",
   "metadata": {
    "id": "tZe2VdPX2TnA"
   },
   "source": [
    "Dada as listas a seguir:\n",
    "\n",
    "primeirosNomes = ['Joao', 'Douglas', 'Lucas', 'José']\n",
    "\n",
    "sobreNomes = ['Soares', 'Souza', 'Silveira', 'Pedreira']\n",
    "\n",
    "idades = [19, 28, 25, 31]\n",
    "\n",
    "Faça um programa que imprima os dados na seguinte estrutura: \" - está com anos\"\n"
   ]
  },
  {
   "cell_type": "code",
   "execution_count": null,
   "metadata": {},
   "outputs": [],
   "source": [
    "primeirosNomes = ['Joao', 'Douglas', 'Lucas', 'José']\n",
    "sobreNomes = ['Soares', 'Souza', 'Silveira', 'Pedreira']\n",
    "idades = [19, 28, 25, 31]"
   ]
  },
  {
   "cell_type": "markdown",
   "metadata": {
    "id": "duTJNJ5s1-HC"
   },
   "source": [
    "## Exercício 5"
   ]
  },
  {
   "cell_type": "markdown",
   "metadata": {
    "id": "e3hn33Uv2Z0k"
   },
   "source": [
    "Escreva uma função que recebe uma lista e retorna uma nova lista sem elementos duplicados. Utilize um\n",
    "exemplo para testar sua função"
   ]
  },
  {
   "cell_type": "code",
   "execution_count": 34,
   "metadata": {},
   "outputs": [
    {
     "name": "stdout",
     "output_type": "stream",
     "text": [
      "Lista original: [1, 1, 2, 3, 4]\n",
      "Nova Lista: [1, 2, 3, 4]\n"
     ]
    }
   ],
   "source": [
    "lista = [1, 1, 2, 3, 4]\n",
    "print('Lista original:', lista)\n",
    "\n",
    "def nova_lista(lista):\n",
    "    #nova_lista = lista.copy() \n",
    "    \n",
    "    #convertendo lista em conjunto\n",
    "    lista_conjunto = set(lista)\n",
    "    nova_lista_conjunto = lista_conjunto\n",
    "    \n",
    "    nova_lista = list(nova_lista_conjunto)              \n",
    "    return nova_lista\n",
    "\n",
    "print('Nova Lista:', nova_lista(lista))"
   ]
  },
  {
   "cell_type": "markdown",
   "metadata": {
    "id": "bM8EuhJ22elc"
   },
   "source": [
    "## Exercício 6"
   ]
  },
  {
   "cell_type": "markdown",
   "metadata": {
    "id": "Bp84TIUs2uye"
   },
   "source": [
    "Escreva um programa que lê o conteúdo do arquivo texto arquivo_texto.txt e imprime o seu conteúdo.\n",
    "Dica: leia documentação da função open(...), link: https://docs.python.org/3/library/functions.html#open\n"
   ]
  },
  {
   "cell_type": "code",
   "execution_count": 38,
   "metadata": {},
   "outputs": [
    {
     "name": "stdout",
     "output_type": "stream",
     "text": [
      "1\n",
      "\n",
      "2\n",
      "\n",
      "3\n",
      "\n",
      "4\n",
      "\n",
      "5\n",
      "\n",
      "6\n",
      "\n",
      "7\n",
      "\n",
      "8\n",
      "\n",
      "9\n",
      "\n",
      "10\n"
     ]
    }
   ],
   "source": [
    "arquivo = open('arquivo_texto.txt', 'r')\n",
    "\n",
    "for line in arquivo.readlines():\n",
    "    print(line)\n",
    "    \n",
    "arquivo.close()"
   ]
  },
  {
   "cell_type": "markdown",
   "metadata": {
    "id": "R7LNTCUA2fob"
   },
   "source": [
    "## Exercício 7"
   ]
  },
  {
   "cell_type": "markdown",
   "metadata": {
    "id": "nABTFeC82xrq"
   },
   "source": [
    "Leia o arquivo person.json, faça o parsing e imprima seu conteúdo.\n",
    "Dica: leia a documentação do pacote json, link: https://docs.python.org/3/library/json.html\n"
   ]
  },
  {
   "cell_type": "code",
   "execution_count": null,
   "metadata": {},
   "outputs": [],
   "source": [
    "arquivo = open(\"person.json\", \"r\")\n",
    "\n",
    "for line in arquivo.readlines():\n",
    "    print(line)"
   ]
  },
  {
   "cell_type": "markdown",
   "metadata": {
    "id": "m0WlP5rr2goN"
   },
   "source": [
    "## Exercício 8"
   ]
  },
  {
   "cell_type": "markdown",
   "metadata": {
    "id": "jUEATQis20g1"
   },
   "source": [
    "Implemente a função my_map(list, f) que recebe uma lista como primeiro argumento e uma função como\n",
    "segundo argumento. Esta função aplica a função recebida para cada elemento da lista recebida retorna o\n",
    "resultado em uma nova lista.\n",
    "Teste sua função para saber se está ok"
   ]
  },
  {
   "cell_type": "code",
   "execution_count": 42,
   "metadata": {},
   "outputs": [
    {
     "name": "stdout",
     "output_type": "stream",
     "text": [
      "None\n"
     ]
    }
   ],
   "source": [
    "def my_map(list,f):\n",
    "    for elemento in list:\n",
    "        f()\n",
    "            \n",
    "list = [1, 2, 3, 4]\n",
    "print(my_map(list, f))      "
   ]
  },
  {
   "cell_type": "markdown",
   "metadata": {
    "id": "5cacDHT02hlK"
   },
   "source": [
    "## Exercício 9"
   ]
  },
  {
   "cell_type": "markdown",
   "metadata": {
    "id": "4HNGdN6422iF"
   },
   "source": [
    "Escreva uma função que recebe um número variável de parâmetros não nomeados e um número variado de\n",
    "parâmetros nomeados e imprime o valor de cada parâmetro recebido."
   ]
  },
  {
   "cell_type": "markdown",
   "metadata": {
    "id": "hHIrU1S42jZQ"
   },
   "source": [
    "## Exercício 10"
   ]
  },
  {
   "cell_type": "markdown",
   "metadata": {
    "id": "_a5d8Yx825Yd"
   },
   "source": [
    "Implemente a classe Lampada. A classe Lâmpada recebe um booleano no seu construtor, True se a lâmpada\n",
    "estiver ligada, False caso esteja desligada. A classe Lampada possuí os seguintes métodos:\n",
    "• liga(): muda o estado da lâmpada para ligada\n",
    "• desliga(): muda o estado da lâmpada para desligada\n",
    "• esta_ligada(): retorna verdadeiro se a lâmpada estiver ligada, falso caso contrário"
   ]
  },
  {
   "cell_type": "code",
   "execution_count": null,
   "metadata": {},
   "outputs": [],
   "source": []
  },
  {
   "cell_type": "markdown",
   "metadata": {
    "id": "XS3fEs832klf"
   },
   "source": [
    "## Exercício 11"
   ]
  },
  {
   "cell_type": "markdown",
   "metadata": {
    "id": "GMWHAp6C28wB"
   },
   "source": [
    "Escreva um programa que leia do teclado uma sequência de número separados por vírgula (e.g. 2,4,5,6,1,6) e\n",
    "imprime a soma de todos eles.\n"
   ]
  },
  {
   "cell_type": "code",
   "execution_count": 64,
   "metadata": {},
   "outputs": [
    {
     "name": "stdout",
     "output_type": "stream",
     "text": [
      "Numeros digitados:  1, 2, 3\n",
      "<class 'str'>\n",
      "Lista criada:  [1, 2, 3]\n",
      "Soma:  6\n"
     ]
    }
   ],
   "source": [
    "numero = input(\"Digite os numeros que deseja somar, separados por virgula: \")\n",
    "print('Numeros digitados: ', numero)\n",
    "print(type(numero)) #string\n",
    "\n",
    "lista = numero.split(',')\n",
    "\n",
    "lista_numeros = []\n",
    "for el in lista:\n",
    "    lista_numeros.append(int(el) )   \n",
    "    \n",
    "print('Lista criada: ', lista_numeros)\n",
    "\n",
    "print('Soma: ', sum(lista_numeros))"
   ]
  },
  {
   "cell_type": "markdown",
   "metadata": {
    "id": "NQC-4lZU2lug"
   },
   "source": [
    "## Exercício 12"
   ]
  },
  {
   "cell_type": "markdown",
   "metadata": {
    "id": "T2MtQzBX2-9X"
   },
   "source": [
    "Escreve uma função que recebe como parâmetro uma lista e retorna 3 listas: a lista recebida dividida em 3\n",
    "partes iguais. Teste sua implementação\n",
    "b = [1, 2, 3, 4, 5, 6, 7, 8, 9, 10, 11, 12, 13]"
   ]
  },
  {
   "cell_type": "code",
   "execution_count": 68,
   "metadata": {},
   "outputs": [
    {
     "ename": "TypeError",
     "evalue": "slice indices must be integers or None or have an __index__ method",
     "output_type": "error",
     "traceback": [
      "\u001b[1;31m---------------------------------------------------------------------------\u001b[0m",
      "\u001b[1;31mTypeError\u001b[0m                                 Traceback (most recent call last)",
      "\u001b[1;32mc:\\Users\\Anne Karoline\\workspace 2022\\00-Projetos-2022\\python\\listas-de-exercicios\\lista-01\\Lista_01-Parte_02.ipynb Célula: 39\u001b[0m in \u001b[0;36m<cell line: 20>\u001b[1;34m()\u001b[0m\n\u001b[0;32m     <a href='vscode-notebook-cell:/c%3A/Users/Anne%20Karoline/workspace%202022/00-Projetos-2022/python/listas-de-exercicios/lista-01/Lista_01-Parte_02.ipynb#Y121sZmlsZQ%3D%3D?line=15'>16</a>\u001b[0m     \u001b[39mreturn\u001b[39;00m a, b, c\n\u001b[0;32m     <a href='vscode-notebook-cell:/c%3A/Users/Anne%20Karoline/workspace%202022/00-Projetos-2022/python/listas-de-exercicios/lista-01/Lista_01-Parte_02.ipynb#Y121sZmlsZQ%3D%3D?line=18'>19</a>\u001b[0m lista \u001b[39m=\u001b[39m [\u001b[39m1\u001b[39m, \u001b[39m2\u001b[39m, \u001b[39m3\u001b[39m, \u001b[39m4\u001b[39m, \u001b[39m5\u001b[39m, \u001b[39m6\u001b[39m, \u001b[39m7\u001b[39m, \u001b[39m8\u001b[39m, \u001b[39m9\u001b[39m, \u001b[39m10\u001b[39m, \u001b[39m11\u001b[39m, \u001b[39m12\u001b[39m, \u001b[39m13\u001b[39m]\n\u001b[1;32m---> <a href='vscode-notebook-cell:/c%3A/Users/Anne%20Karoline/workspace%202022/00-Projetos-2022/python/listas-de-exercicios/lista-01/Lista_01-Parte_02.ipynb#Y121sZmlsZQ%3D%3D?line=19'>20</a>\u001b[0m \u001b[39mprint\u001b[39m(funcao(lista))\n",
      "\u001b[1;32mc:\\Users\\Anne Karoline\\workspace 2022\\00-Projetos-2022\\python\\listas-de-exercicios\\lista-01\\Lista_01-Parte_02.ipynb Célula: 39\u001b[0m in \u001b[0;36mfuncao\u001b[1;34m(lista)\u001b[0m\n\u001b[0;32m      <a href='vscode-notebook-cell:/c%3A/Users/Anne%20Karoline/workspace%202022/00-Projetos-2022/python/listas-de-exercicios/lista-01/Lista_01-Parte_02.ipynb#Y121sZmlsZQ%3D%3D?line=8'>9</a>\u001b[0m c \u001b[39m=\u001b[39m []\n\u001b[0;32m     <a href='vscode-notebook-cell:/c%3A/Users/Anne%20Karoline/workspace%202022/00-Projetos-2022/python/listas-de-exercicios/lista-01/Lista_01-Parte_02.ipynb#Y121sZmlsZQ%3D%3D?line=10'>11</a>\u001b[0m \u001b[39mfor\u001b[39;00m el \u001b[39min\u001b[39;00m lista:\n\u001b[1;32m---> <a href='vscode-notebook-cell:/c%3A/Users/Anne%20Karoline/workspace%202022/00-Projetos-2022/python/listas-de-exercicios/lista-01/Lista_01-Parte_02.ipynb#Y121sZmlsZQ%3D%3D?line=11'>12</a>\u001b[0m     a \u001b[39m=\u001b[39m lista[:qtd_lista]\n\u001b[0;32m     <a href='vscode-notebook-cell:/c%3A/Users/Anne%20Karoline/workspace%202022/00-Projetos-2022/python/listas-de-exercicios/lista-01/Lista_01-Parte_02.ipynb#Y121sZmlsZQ%3D%3D?line=12'>13</a>\u001b[0m     b \u001b[39m=\u001b[39m lista[qtd_lista: (\u001b[39m2\u001b[39m\u001b[39m*\u001b[39mqtd_lista)]\n\u001b[0;32m     <a href='vscode-notebook-cell:/c%3A/Users/Anne%20Karoline/workspace%202022/00-Projetos-2022/python/listas-de-exercicios/lista-01/Lista_01-Parte_02.ipynb#Y121sZmlsZQ%3D%3D?line=13'>14</a>\u001b[0m     c \u001b[39m=\u001b[39m lista[(\u001b[39m2\u001b[39m\u001b[39m*\u001b[39mqtd_lista):qtd_elementos]\n",
      "\u001b[1;31mTypeError\u001b[0m: slice indices must be integers or None or have an __index__ method"
     ]
    }
   ],
   "source": [
    "def funcao(lista):\n",
    "    primeira_posicao = lista[0]\n",
    "    ultima_posicao = lista[:]\n",
    "    qtd_elementos = len(lista)\n",
    "    qtd_lista = (qtd_elementos/3)\n",
    "    \n",
    "    a = []\n",
    "    b = []\n",
    "    c = []\n",
    "    \n",
    "    for el in lista:\n",
    "        a = lista[:qtd_lista]\n",
    "        b = lista[qtd_lista: (2*qtd_lista)]\n",
    "        c = lista[(2*qtd_lista):qtd_elementos]\n",
    "        \n",
    "    return a, b, c\n",
    "    \n",
    "    \n",
    "lista = [1, 2, 3, 4, 5, 6, 7, 8, 9, 10, 11, 12, 13]\n",
    "print(funcao(lista))"
   ]
  },
  {
   "cell_type": "markdown",
   "metadata": {
    "id": "MritdD1u2nNJ"
   },
   "source": [
    "## Exercício 13"
   ]
  },
  {
   "cell_type": "markdown",
   "metadata": {
    "id": "uC9UllTL3Cjo"
   },
   "source": [
    "Dado o dicionário a seguir:\n",
    "\n",
    "speed = {'jan':47, 'feb':52, 'march':47, 'April':44, 'May':52, 'June':53, 'july':54, 'Aug':44, 'Sept':54}\n",
    "\n",
    "Crie uma lista com todos os valores (não as chaves!) e coloque numa lista de forma que não haja valores\n",
    "duplicados."
   ]
  },
  {
   "cell_type": "code",
   "execution_count": null,
   "metadata": {},
   "outputs": [],
   "source": [
    "speed = {'jan':47, 'feb':52, 'march':47, 'April':44, 'May':52, 'June':53, 'july':54, 'Aug':44, 'Sept':54}"
   ]
  },
  {
   "cell_type": "markdown",
   "metadata": {
    "id": "obsBdWbj2pDe"
   },
   "source": [
    "## Exercício 14"
   ]
  },
  {
   "cell_type": "markdown",
   "metadata": {
    "id": "MYIA1XBw3HsA"
   },
   "source": [
    "Calcule o valor mínimo, valor máximo, valor médio e a mediana da lista gerada na célula abaixo:\n",
    "\n",
    "Obs.: Lembrem-se, para calcular a mediana a lista deve estar ordenada!\n"
   ]
  },
  {
   "cell_type": "code",
   "execution_count": 80,
   "metadata": {},
   "outputs": [
    {
     "ename": "TypeError",
     "evalue": "object of type 'int' has no len()",
     "output_type": "error",
     "traceback": [
      "\u001b[1;31m---------------------------------------------------------------------------\u001b[0m",
      "\u001b[1;31mTypeError\u001b[0m                                 Traceback (most recent call last)",
      "\u001b[1;32mc:\\Users\\Anne Karoline\\workspace 2022\\00-Projetos-2022\\python\\listas-de-exercicios\\lista-01\\Lista_01-Parte_02.ipynb Célula: 45\u001b[0m in \u001b[0;36m<cell line: 8>\u001b[1;34m()\u001b[0m\n\u001b[0;32m      <a href='vscode-notebook-cell:/c%3A/Users/Anne%20Karoline/workspace%202022/00-Projetos-2022/python/listas-de-exercicios/lista-01/Lista_01-Parte_02.ipynb#Y123sZmlsZQ%3D%3D?line=4'>5</a>\u001b[0m valor_maximo \u001b[39m=\u001b[39m \u001b[39mmax\u001b[39m(lista)\n\u001b[0;32m      <a href='vscode-notebook-cell:/c%3A/Users/Anne%20Karoline/workspace%202022/00-Projetos-2022/python/listas-de-exercicios/lista-01/Lista_01-Parte_02.ipynb#Y123sZmlsZQ%3D%3D?line=5'>6</a>\u001b[0m valor_medio \u001b[39m=\u001b[39m (\u001b[39msum\u001b[39m(lista),\u001b[39mlen\u001b[39m(lista))\n\u001b[1;32m----> <a href='vscode-notebook-cell:/c%3A/Users/Anne%20Karoline/workspace%202022/00-Projetos-2022/python/listas-de-exercicios/lista-01/Lista_01-Parte_02.ipynb#Y123sZmlsZQ%3D%3D?line=7'>8</a>\u001b[0m lista_ordenada \u001b[39m=\u001b[39m lista\u001b[39m.\u001b[39;49msort(key\u001b[39m=\u001b[39;49m\u001b[39mlambda\u001b[39;49;00m x: \u001b[39mlen\u001b[39;49m(x), reverse\u001b[39m=\u001b[39;49m\u001b[39mFalse\u001b[39;49;00m)\n\u001b[0;32m     <a href='vscode-notebook-cell:/c%3A/Users/Anne%20Karoline/workspace%202022/00-Projetos-2022/python/listas-de-exercicios/lista-01/Lista_01-Parte_02.ipynb#Y123sZmlsZQ%3D%3D?line=9'>10</a>\u001b[0m \u001b[39mif\u001b[39;00m(\u001b[39mlen\u001b[39m(lista)\u001b[39m%\u001b[39m\u001b[39m2\u001b[39m)\u001b[39m==\u001b[39m\u001b[39m0\u001b[39m:\n\u001b[0;32m     <a href='vscode-notebook-cell:/c%3A/Users/Anne%20Karoline/workspace%202022/00-Projetos-2022/python/listas-de-exercicios/lista-01/Lista_01-Parte_02.ipynb#Y123sZmlsZQ%3D%3D?line=10'>11</a>\u001b[0m     med1 \u001b[39m=\u001b[39m lista[\u001b[39mlen\u001b[39m(lista_ordenada)\u001b[39m/\u001b[39m\u001b[39m/\u001b[39m\u001b[39m2\u001b[39m]\n",
      "\u001b[1;32mc:\\Users\\Anne Karoline\\workspace 2022\\00-Projetos-2022\\python\\listas-de-exercicios\\lista-01\\Lista_01-Parte_02.ipynb Célula: 45\u001b[0m in \u001b[0;36m<lambda>\u001b[1;34m(x)\u001b[0m\n\u001b[0;32m      <a href='vscode-notebook-cell:/c%3A/Users/Anne%20Karoline/workspace%202022/00-Projetos-2022/python/listas-de-exercicios/lista-01/Lista_01-Parte_02.ipynb#Y123sZmlsZQ%3D%3D?line=4'>5</a>\u001b[0m valor_maximo \u001b[39m=\u001b[39m \u001b[39mmax\u001b[39m(lista)\n\u001b[0;32m      <a href='vscode-notebook-cell:/c%3A/Users/Anne%20Karoline/workspace%202022/00-Projetos-2022/python/listas-de-exercicios/lista-01/Lista_01-Parte_02.ipynb#Y123sZmlsZQ%3D%3D?line=5'>6</a>\u001b[0m valor_medio \u001b[39m=\u001b[39m (\u001b[39msum\u001b[39m(lista),\u001b[39mlen\u001b[39m(lista))\n\u001b[1;32m----> <a href='vscode-notebook-cell:/c%3A/Users/Anne%20Karoline/workspace%202022/00-Projetos-2022/python/listas-de-exercicios/lista-01/Lista_01-Parte_02.ipynb#Y123sZmlsZQ%3D%3D?line=7'>8</a>\u001b[0m lista_ordenada \u001b[39m=\u001b[39m lista\u001b[39m.\u001b[39msort(key\u001b[39m=\u001b[39m\u001b[39mlambda\u001b[39;00m x: \u001b[39mlen\u001b[39;49m(x), reverse\u001b[39m=\u001b[39m\u001b[39mFalse\u001b[39;00m)\n\u001b[0;32m     <a href='vscode-notebook-cell:/c%3A/Users/Anne%20Karoline/workspace%202022/00-Projetos-2022/python/listas-de-exercicios/lista-01/Lista_01-Parte_02.ipynb#Y123sZmlsZQ%3D%3D?line=9'>10</a>\u001b[0m \u001b[39mif\u001b[39;00m(\u001b[39mlen\u001b[39m(lista)\u001b[39m%\u001b[39m\u001b[39m2\u001b[39m)\u001b[39m==\u001b[39m\u001b[39m0\u001b[39m:\n\u001b[0;32m     <a href='vscode-notebook-cell:/c%3A/Users/Anne%20Karoline/workspace%202022/00-Projetos-2022/python/listas-de-exercicios/lista-01/Lista_01-Parte_02.ipynb#Y123sZmlsZQ%3D%3D?line=10'>11</a>\u001b[0m     med1 \u001b[39m=\u001b[39m lista[\u001b[39mlen\u001b[39m(lista_ordenada)\u001b[39m/\u001b[39m\u001b[39m/\u001b[39m\u001b[39m2\u001b[39m]\n",
      "\u001b[1;31mTypeError\u001b[0m: object of type 'int' has no len()"
     ]
    }
   ],
   "source": [
    "import random\n",
    "#lista = [2, 4, 2, 2, 2, 8, 2, 2, 2, 4]\n",
    "lista = random.sample(range(500),50)\n",
    "valor_minimo = min(lista)\n",
    "valor_maximo = max(lista)\n",
    "valor_medio = (sum(lista),len(lista))\n",
    "\n",
    "lista_ordenada = lista.sort(key=lambda x: len(x), reverse=False)\n",
    "\n",
    "if(len(lista)%2)==0:\n",
    "    med1 = lista[len(lista_ordenada)//2]\n",
    "    med2 = lista[len(lista_ordenada)//2 + 1]\n",
    "    mediana = (med1+med2)/2\n",
    "else:\n",
    "    posicao = len(lista_ordenada)//2\n",
    "    mediana = lista[posicao]\n",
    "\n",
    "print(\"Valor minimo: \", valor_minimo)\n",
    "print(\"Valor máximo: \", valor_maximo)\n",
    "print(\"Valor médio: \", valor_medio)\n",
    "print(\"Valor mediana: \", mediana)"
   ]
  },
  {
   "cell_type": "markdown",
   "metadata": {
    "id": "qjsdQkOs2qai"
   },
   "source": [
    "## Exercício 15"
   ]
  },
  {
   "cell_type": "markdown",
   "metadata": {
    "id": "boeh3Tlo3Q8g"
   },
   "source": [
    "Imprima a lista da célula abaixo de trás para frente.\n",
    "\n",
    "a = [1, 1, 2, 3, 5, 8, 13, 21, 34, 55, 89]"
   ]
  },
  {
   "cell_type": "code",
   "execution_count": 81,
   "metadata": {
    "id": "eslOWtuu6WJc"
   },
   "outputs": [
    {
     "name": "stdout",
     "output_type": "stream",
     "text": [
      "[89, 55, 34, 21, 13, 8, 5, 3, 2, 1, 1]\n"
     ]
    }
   ],
   "source": [
    "a = [1, 1, 2, 3, 5, 8, 13, 21, 34, 55, 89]\n",
    "print(a[::-1])"
   ]
  },
  {
   "cell_type": "code",
   "execution_count": 38,
   "metadata": {},
   "outputs": [
    {
     "name": "stdout",
     "output_type": "stream",
     "text": [
      "[89, 55, 34, 21, 13, 8, 5, 3, 2, 1, 1]\n"
     ]
    }
   ],
   "source": [
    "a = [1, 1, 2, 3, 5, 8, 13, 21, 34, 55, 89]\n",
    "a.reverse()\n",
    "print(a)"
   ]
  }
 ],
 "metadata": {
  "colab": {
   "name": "Lista_01.ipynb",
   "provenance": []
  },
  "kernelspec": {
   "display_name": "Python 3.10.5 64-bit",
   "language": "python",
   "name": "python3"
  },
  "language_info": {
   "codemirror_mode": {
    "name": "ipython",
    "version": 3
   },
   "file_extension": ".py",
   "mimetype": "text/x-python",
   "name": "python",
   "nbconvert_exporter": "python",
   "pygments_lexer": "ipython3",
   "version": "3.10.5"
  },
  "vscode": {
   "interpreter": {
    "hash": "d1d9262175893a3f9c089c524f593192d5b8538f6ec9ef6d8235214e3dc272a1"
   }
  }
 },
 "nbformat": 4,
 "nbformat_minor": 1
}
