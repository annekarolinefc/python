{
 "cells": [
  {
   "cell_type": "markdown",
   "metadata": {
    "id": "53FrqpUi0dun"
   },
   "source": [
    "# Exercícios – Parte 1"
   ]
  },
  {
   "cell_type": "markdown",
   "metadata": {
    "id": "-0V2u3zb0gkv"
   },
   "source": [
    "## Exercício 1"
   ]
  },
  {
   "cell_type": "markdown",
   "metadata": {
    "id": "NI2RVFYg1SJt"
   },
   "source": [
    "Escreva um código Python que lê do teclado o nome e a idade de um usuário e imprime o ano em que o\n",
    "usuário completará 100 anos.\n",
    "Dica: você pode ler strings digitadas no teclado utilizando a função builtin input('mensagem'). Lembre-se de\n",
    "converter números para seu respectivo tipo (int ou float) antes fazer operações aritméticas.\n"
   ]
  },
  {
   "cell_type": "code",
   "execution_count": 7,
   "metadata": {
    "colab": {
     "base_uri": "https://localhost:8080/"
    },
    "id": "NAWL7Q7i7Z_y",
    "outputId": "6320ec45-e810-45d5-ab99-0d6fc0ad1417"
   },
   "outputs": [
    {
     "name": "stdout",
     "output_type": "stream",
     "text": [
      "anne irá completar 100 anos em 2120.\n"
     ]
    }
   ],
   "source": [
    "import datetime\n",
    "\n",
    "current_time = datetime.datetime.now()\n",
    "ano_atual = current_time.year\n",
    "\n",
    "nome = input('Insira seu nome: ')\n",
    "idade = int(input('Insira usa idade: '))\n",
    "ano = 100-idade+2022;\n",
    "print(f'{nome} irá completar 100 anos em {ano}.')"
   ]
  },
  {
   "cell_type": "markdown",
   "metadata": {
    "id": "PQTB6-0E0iEC"
   },
   "source": [
    "## Exercício 2"
   ]
  },
  {
   "cell_type": "markdown",
   "metadata": {
    "id": "dcIZlsu51gMq"
   },
   "source": [
    "Escreva um código Python que lê do teclado um número digitado pelo usuário e imprime se ele par ou ímpar"
   ]
  },
  {
   "cell_type": "code",
   "execution_count": 9,
   "metadata": {
    "colab": {
     "base_uri": "https://localhost:8080/"
    },
    "id": "K9zpRpAQ8PBg",
    "outputId": "0e46dac8-c69f-4b3e-d5e1-e8a9bc9d5aeb"
   },
   "outputs": [
    {
     "name": "stdout",
     "output_type": "stream",
     "text": [
      "5.7 é impar.\n"
     ]
    }
   ],
   "source": [
    "numero = float(input('Digite um numero: '))\n",
    "if (numero%2==0):\n",
    "  print(f'{numero} é par.')\n",
    "else :\n",
    "  print(f'{numero} é impar.')"
   ]
  },
  {
   "cell_type": "markdown",
   "metadata": {
    "id": "-TNUUYrP0pPx"
   },
   "source": [
    "## Exercício 3"
   ]
  },
  {
   "cell_type": "markdown",
   "metadata": {
    "id": "bArkXx6J1jit"
   },
   "source": [
    "Escreva um código Python que imprime os números pares de 0 até 20 (incluso).\n",
    "Dica: olhe a documentação da função range(). Mais informações no link\n"
   ]
  },
  {
   "cell_type": "code",
   "execution_count": 10,
   "metadata": {},
   "outputs": [
    {
     "name": "stdout",
     "output_type": "stream",
     "text": [
      "0\n",
      "2\n",
      "4\n",
      "6\n",
      "8\n",
      "10\n",
      "12\n",
      "14\n",
      "16\n",
      "18\n",
      "20\n"
     ]
    }
   ],
   "source": [
    "for numeros in range(0,21, 2):\n",
    "  print(numeros)"
   ]
  },
  {
   "cell_type": "code",
   "execution_count": 13,
   "metadata": {
    "colab": {
     "base_uri": "https://localhost:8080/"
    },
    "id": "dPfKz_3-_NjG",
    "outputId": "8cf3104d-ca5e-450c-a951-bc25a48847ed"
   },
   "outputs": [
    {
     "name": "stdout",
     "output_type": "stream",
     "text": [
      "[0, 2, 4, 6, 8, 10, 12, 14, 16, 18, 20]\n"
     ]
    }
   ],
   "source": [
    "from random import randrange\n",
    "\n",
    "array_de_numeros = []\n",
    "\n",
    "for numeros in range(21):\n",
    "  numeros\n",
    "  array_de_numeros.append(numeros)\n",
    "\n",
    "array_de_numeros_pares = []\n",
    "\n",
    "for elemento in array_de_numeros:\n",
    "  if (elemento%2==0):\n",
    "    array_de_numeros_pares.append(elemento)\n",
    "\n",
    "print(array_de_numeros_pares)"
   ]
  },
  {
   "cell_type": "markdown",
   "metadata": {
    "id": "51OOhh_o0q13"
   },
   "source": [
    "## Exercício 4"
   ]
  },
  {
   "cell_type": "markdown",
   "metadata": {
    "id": "HWrKgCNU1rRV"
   },
   "source": [
    "Escreva um código Python que imprime todos os números primos de 0 até 100."
   ]
  },
  {
   "cell_type": "code",
   "execution_count": 100,
   "metadata": {},
   "outputs": [
    {
     "name": "stdout",
     "output_type": "stream",
     "text": [
      "2 é primo\n",
      "3 é primo\n",
      "5 é primo\n",
      "7 é primo\n",
      "11 é primo\n",
      "13 é primo\n",
      "17 é primo\n",
      "19 é primo\n",
      "23 é primo\n",
      "29 é primo\n",
      "31 é primo\n",
      "37 é primo\n",
      "41 é primo\n",
      "43 é primo\n",
      "47 é primo\n",
      "53 é primo\n",
      "59 é primo\n",
      "61 é primo\n",
      "67 é primo\n",
      "71 é primo\n",
      "73 é primo\n",
      "79 é primo\n",
      "83 é primo\n",
      "89 é primo\n",
      "97 é primo\n"
     ]
    }
   ],
   "source": [
    "# primos - são maiores do que 1 e possuem somente dois divisores (divisiveis por 1 e por ele mesmo)\n",
    "\n",
    "for numero in range(2, 101):\n",
    "    for count in range(2, numero):\n",
    "        if (numero%count) == 0: #o numero possui um divisor sem ser 1 e ele mesmo.\n",
    "            break # encerra o laço\n",
    "    else:\n",
    "        print(f'{numero} é primo')"
   ]
  },
  {
   "cell_type": "markdown",
   "metadata": {
    "id": "H9rrX9PG0q9g"
   },
   "source": [
    "## Exercício 5\n"
   ]
  },
  {
   "cell_type": "markdown",
   "metadata": {
    "id": "oI6uVZ_11tfs"
   },
   "source": [
    "Escreva um código Python que lê do teclado um dia, um mês e um ano e imprime a data completa no\n",
    "formato a seguir:\n",
    "Exemplo: 22/10/2022"
   ]
  },
  {
   "cell_type": "code",
   "execution_count": 14,
   "metadata": {
    "colab": {
     "base_uri": "https://localhost:8080/"
    },
    "id": "-arJO7Nk67Xr",
    "outputId": "86e9d5d2-9935-4049-91d5-cde758e9b5a3"
   },
   "outputs": [
    {
     "name": "stdout",
     "output_type": "stream",
     "text": [
      "23/2/45\n"
     ]
    }
   ],
   "source": [
    "dia = input('Insira o dia: ')\n",
    "mes = input('Insira o mês: ')\n",
    "ano = input('Insira o ano: ')\n",
    "\n",
    "print(dia, mes, ano, sep=('/'))\n"
   ]
  },
  {
   "cell_type": "code",
   "execution_count": 20,
   "metadata": {},
   "outputs": [
    {
     "name": "stdout",
     "output_type": "stream",
     "text": [
      "02/03/1997\n"
     ]
    }
   ],
   "source": [
    "dia = input('Insira o dia: ')\n",
    "\n",
    "mes = int(input('Insira o mês: '))\n",
    "if mes >= 13:\n",
    "    mes = input('Valor incorreto. Insira novamente o mês: ')\n",
    "    \n",
    "ano = input('Insira o ano com quatro digitos: ')\n",
    "qtd_caracteres_ano = len(ano)\n",
    "if qtd_caracteres_ano<4:\n",
    "    ano = input('Insira novamente o ano com quatro digitos: ')\n",
    "    \n",
    "print(\"{:0>2}/{:0>2}/{}\".format(dia, mes, ano))"
   ]
  }
 ],
 "metadata": {
  "colab": {
   "name": "Lista_01.ipynb",
   "provenance": []
  },
  "kernelspec": {
   "display_name": "Python 3.10.5 64-bit",
   "language": "python",
   "name": "python3"
  },
  "language_info": {
   "codemirror_mode": {
    "name": "ipython",
    "version": 3
   },
   "file_extension": ".py",
   "mimetype": "text/x-python",
   "name": "python",
   "nbconvert_exporter": "python",
   "pygments_lexer": "ipython3",
   "version": "3.10.5"
  },
  "vscode": {
   "interpreter": {
    "hash": "d1d9262175893a3f9c089c524f593192d5b8538f6ec9ef6d8235214e3dc272a1"
   }
  }
 },
 "nbformat": 4,
 "nbformat_minor": 1
}
