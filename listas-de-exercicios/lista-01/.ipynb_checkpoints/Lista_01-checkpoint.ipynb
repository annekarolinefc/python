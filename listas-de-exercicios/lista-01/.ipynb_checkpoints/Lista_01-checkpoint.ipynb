{
 "cells": [
  {
   "cell_type": "markdown",
   "metadata": {
    "id": "53FrqpUi0dun"
   },
   "source": [
    "# Exercícios – Parte 1"
   ]
  },
  {
   "cell_type": "markdown",
   "metadata": {
    "id": "-0V2u3zb0gkv"
   },
   "source": [
    "## Exercício 1"
   ]
  },
  {
   "cell_type": "markdown",
   "metadata": {
    "id": "NI2RVFYg1SJt"
   },
   "source": [
    "Escreva um código Python que lê do teclado o nome e a idade de um usuário e imprime o ano em que o\n",
    "usuário completará 100 anos.\n",
    "Dica: você pode ler strings digitadas no teclado utilizando a função builtin input('mensagem'). Lembre-se de\n",
    "converter números para seu respectivo tipo (int ou float) antes fazer operações aritméticas.\n"
   ]
  },
  {
   "cell_type": "code",
   "execution_count": 1,
   "metadata": {
    "colab": {
     "base_uri": "https://localhost:8080/"
    },
    "id": "NAWL7Q7i7Z_y",
    "outputId": "6320ec45-e810-45d5-ab99-0d6fc0ad1417"
   },
   "outputs": [
    {
     "name": "stdout",
     "output_type": "stream",
     "text": [
      "Insira seu nome: Anne\n",
      "Insira usa idade: 29\n",
      "Anne irá completar 100 anos em 2093.\n"
     ]
    }
   ],
   "source": [
    "nome = input('Insira seu nome: ')\n",
    "idade = input('Insira usa idade: ')\n",
    "idade = int(idade)\n",
    "ano_atual = 2022\n",
    "ano = 100-idade+2022;\n",
    "print(f'{nome} irá completar 100 anos em {ano}.')"
   ]
  },
  {
   "cell_type": "markdown",
   "metadata": {
    "id": "PQTB6-0E0iEC"
   },
   "source": [
    "## Exercício 2"
   ]
  },
  {
   "cell_type": "markdown",
   "metadata": {
    "id": "dcIZlsu51gMq"
   },
   "source": [
    "Escreva um código Python que lê do teclado um número digitado pelo usuário e imprime se ele par ou ímpar"
   ]
  },
  {
   "cell_type": "code",
   "execution_count": 13,
   "metadata": {
    "colab": {
     "base_uri": "https://localhost:8080/"
    },
    "id": "K9zpRpAQ8PBg",
    "outputId": "0e46dac8-c69f-4b3e-d5e1-e8a9bc9d5aeb"
   },
   "outputs": [
    {
     "name": "stdout",
     "output_type": "stream",
     "text": [
      "Digite um numero: 13\n",
      "13 é impar.\n"
     ]
    }
   ],
   "source": [
    "numero = input('Digite um numero: ')\n",
    "numero = int(numero)\n",
    "if (numero%2==0):\n",
    "  print(f'{numero} é par.')\n",
    "else :\n",
    "  print(f'{numero} é impar.')"
   ]
  },
  {
   "cell_type": "markdown",
   "metadata": {
    "id": "-TNUUYrP0pPx"
   },
   "source": [
    "## Exercício 3"
   ]
  },
  {
   "cell_type": "markdown",
   "metadata": {
    "id": "bArkXx6J1jit"
   },
   "source": [
    "Escreva um código Python que imprime os números pares de 0 até 20 (incluso).\n",
    "Dica: olhe a documentação da função range(). Mais informações no link\n"
   ]
  },
  {
   "cell_type": "code",
   "execution_count": 21,
   "metadata": {
    "colab": {
     "base_uri": "https://localhost:8080/"
    },
    "id": "dPfKz_3-_NjG",
    "outputId": "8cf3104d-ca5e-450c-a951-bc25a48847ed"
   },
   "outputs": [
    {
     "data": {
      "text/plain": [
       "[0, 2, 4, 6, 8, 10, 12, 14, 16, 18, 20]"
      ]
     },
     "execution_count": 21,
     "metadata": {},
     "output_type": "execute_result"
    }
   ],
   "source": [
    "from random import randrange\n",
    "array_de_numeros = []\n",
    "for numeros in range(21):\n",
    "  numeros\n",
    "  array_de_numeros.append(numeros)\n",
    "\n",
    "array_de_numeros_pares = []\n",
    "\n",
    "for elemento in array_de_numeros:\n",
    "  if (elemento%2==0):\n",
    "    array_de_numeros_pares.append(elemento)\n",
    "\n",
    "array_de_numeros_pares"
   ]
  },
  {
   "cell_type": "markdown",
   "metadata": {
    "id": "51OOhh_o0q13"
   },
   "source": [
    "## Exercício 4"
   ]
  },
  {
   "cell_type": "markdown",
   "metadata": {
    "id": "HWrKgCNU1rRV"
   },
   "source": [
    "Escreva um código Python que imprime todos os números primos de 0 até 100.\n"
   ]
  },
  {
   "cell_type": "code",
   "execution_count": 2,
   "metadata": {
    "colab": {
     "base_uri": "https://localhost:8080/"
    },
    "id": "S5C8o7kTATU3",
    "outputId": "cb06813a-b601-41fe-c2d2-26f2528e1abb"
   },
   "outputs": [
    {
     "ename": "SyntaxError",
     "evalue": "invalid syntax (2587937694.py, line 7)",
     "output_type": "error",
     "traceback": [
      "\u001b[1;36m  Input \u001b[1;32mIn [2]\u001b[1;36m\u001b[0m\n\u001b[1;33m    if (elemento%elemento==1)\u001b[0m\n\u001b[1;37m                             ^\u001b[0m\n\u001b[1;31mSyntaxError\u001b[0m\u001b[1;31m:\u001b[0m invalid syntax\n"
     ]
    }
   ],
   "source": [
    "numeros = []\n",
    "numeros_primos = []\n",
    "for numero in range(0, 101):\n",
    "  numeros.append(numero);\n",
    "\n",
    "for elemento in numeros:\n",
    "  if (elemento%elemento==1)"
   ]
  },
  {
   "cell_type": "markdown",
   "metadata": {
    "id": "H9rrX9PG0q9g"
   },
   "source": [
    "## Exercício 5\n"
   ]
  },
  {
   "cell_type": "markdown",
   "metadata": {
    "id": "oI6uVZ_11tfs"
   },
   "source": [
    "Escreva um código Python que lê do teclado um dia, um mês e um ano e imprime a data completa no\n",
    "formato a seguir:\n",
    "Exemplo: 22/10/2022"
   ]
  },
  {
   "cell_type": "code",
   "execution_count": 3,
   "metadata": {
    "colab": {
     "base_uri": "https://localhost:8080/"
    },
    "id": "-arJO7Nk67Xr",
    "outputId": "86e9d5d2-9935-4049-91d5-cde758e9b5a3"
   },
   "outputs": [
    {
     "name": "stdout",
     "output_type": "stream",
     "text": [
      "Insira o dia: 22\n",
      "Insira o mês: 28\n",
      "Insira o ano: 2023\n",
      "22/28/2023\n"
     ]
    }
   ],
   "source": [
    "dia = input('Insira o dia: ')\n",
    "mes = input('Insira o mês: ')\n",
    "ano = input('Insira o ano: ')\n",
    "\n",
    "print(dia, mes, ano, sep=\n",
    "      ('/'))"
   ]
  },
  {
   "cell_type": "markdown",
   "metadata": {
    "id": "HxN9tOwd10wz"
   },
   "source": [
    "# Exercícios – Parte 2"
   ]
  },
  {
   "cell_type": "markdown",
   "metadata": {
    "id": "9_zFz1Nj12n2"
   },
   "source": [
    "## Exercício 1"
   ]
  },
  {
   "cell_type": "markdown",
   "metadata": {
    "id": "P9G45UWe2IwR"
   },
   "source": [
    "Dada duas listas como no exemplo abaixo:\n",
    " a = [1, 1, 2, 3, 5, 8, 13, 21, 34, 55, 89]\n",
    " b = [1, 2, 3, 4, 5, 6, 7, 8, 9, 10, 11, 12, 13]\n",
    "Escreve um programa que retorne o que as litas têm comum (sem repetições). O seu programa deve\n",
    "funcionar para listas de qualquer tamanho.\n"
   ]
  },
  {
   "cell_type": "markdown",
   "metadata": {
    "id": "NmrZIH2d15RC"
   },
   "source": [
    "## Exercício 2"
   ]
  },
  {
   "cell_type": "markdown",
   "metadata": {
    "id": "QR5CKxDC2Ns9"
   },
   "source": [
    "Dada a seguinte lista:\n",
    "a = [1, 4, 9, 16, 25, 36, 49, 64, 81, 100]\n",
    "Faça um programa que gere uma nova lista contendo apenas números ímpares.\n"
   ]
  },
  {
   "cell_type": "markdown",
   "metadata": {
    "id": "1_e1c0rC16ag"
   },
   "source": [
    "## Exercício 3"
   ]
  },
  {
   "cell_type": "markdown",
   "metadata": {
    "id": "wnnL0IOv2Qmu"
   },
   "source": [
    "Peça para o usuário digitar uma palavra pelo teclado e determina se a palavra digitada é ou não um\n",
    "palíndromo. Um palíndromo é uma palavra que permanece igual se lida de traz pra frente.\n"
   ]
  },
  {
   "cell_type": "markdown",
   "metadata": {
    "id": "3F39NIWQ17lk"
   },
   "source": [
    "## Exercício 4"
   ]
  },
  {
   "cell_type": "markdown",
   "metadata": {
    "id": "tZe2VdPX2TnA"
   },
   "source": [
    "Dada as listas a seguir:\n",
    "primeirosNomes = ['Joao', 'Douglas', 'Lucas', 'José']\n",
    "sobreNomes = ['Soares', 'Souza', 'Silveira', 'Pedreira']\n",
    "idades = [19, 28, 25, 31]\n",
    "Faça um programa que imprima os dados na seguinte estrutura: \" - está com anos\"\n"
   ]
  },
  {
   "cell_type": "markdown",
   "metadata": {
    "id": "duTJNJ5s1-HC"
   },
   "source": [
    "## Exercício 5"
   ]
  },
  {
   "cell_type": "markdown",
   "metadata": {
    "id": "e3hn33Uv2Z0k"
   },
   "source": [
    "Escreva uma função que recebe uma lista e retorna uma nova lista sem elementos duplicados. Utilize um\n",
    "exemplo para testar sua função"
   ]
  },
  {
   "cell_type": "markdown",
   "metadata": {
    "id": "bM8EuhJ22elc"
   },
   "source": [
    "## Exercício 6"
   ]
  },
  {
   "cell_type": "markdown",
   "metadata": {
    "id": "Bp84TIUs2uye"
   },
   "source": [
    "Escreva um programa que lê o conteúdo do arquivo texto arquivo_texto.txt e imprime o seu conteúdo.\n",
    "Dica: leia documentação da função open(...), link: https://docs.python.org/3/library/functions.html#open\n"
   ]
  },
  {
   "cell_type": "markdown",
   "metadata": {
    "id": "R7LNTCUA2fob"
   },
   "source": [
    "## Exercício 7"
   ]
  },
  {
   "cell_type": "markdown",
   "metadata": {
    "id": "nABTFeC82xrq"
   },
   "source": [
    "Leia o arquivo person.json, faça o parsing e imprima seu conteúdo.\n",
    "Dica: leia a documentação do pacote json, link: https://docs.python.org/3/library/json.html\n"
   ]
  },
  {
   "cell_type": "markdown",
   "metadata": {
    "id": "m0WlP5rr2goN"
   },
   "source": [
    "## Exercício 8"
   ]
  },
  {
   "cell_type": "markdown",
   "metadata": {
    "id": "jUEATQis20g1"
   },
   "source": [
    "Implemente a função my_map(list, f) que recebe uma lista como primeiro argumento e uma função como\n",
    "segundo argumento. Esta função aplica a função recebida para cada elemento da lista recebida retorna o\n",
    "resultado em uma nova lista.\n",
    "Teste sua função para saber se está ok"
   ]
  },
  {
   "cell_type": "markdown",
   "metadata": {
    "id": "5cacDHT02hlK"
   },
   "source": [
    "## Exercício 9"
   ]
  },
  {
   "cell_type": "markdown",
   "metadata": {
    "id": "4HNGdN6422iF"
   },
   "source": [
    "Escreva uma função que recebe um número variável de parâmetros não nomeados e um número variado de\n",
    "parâmetros nomeados e imprime o valor de cada parâmetro recebido."
   ]
  },
  {
   "cell_type": "markdown",
   "metadata": {
    "id": "hHIrU1S42jZQ"
   },
   "source": [
    "## Exercício 10"
   ]
  },
  {
   "cell_type": "markdown",
   "metadata": {
    "id": "_a5d8Yx825Yd"
   },
   "source": [
    "Implemente a classe Lampada. A classe Lâmpada recebe um booleano no seu construtor, True se a lâmpada\n",
    "estiver ligada, False caso esteja desligada. A classe Lampada possuí os seguintes métodos:\n",
    "• liga(): muda o estado da lâmpada para ligada\n",
    "• desliga(): muda o estado da lâmpada para desligada\n",
    "• esta_ligada(): retorna verdadeiro se a lâmpada estiver ligada, falso caso contrário"
   ]
  },
  {
   "cell_type": "markdown",
   "metadata": {
    "id": "XS3fEs832klf"
   },
   "source": [
    "## Exercício 11"
   ]
  },
  {
   "cell_type": "markdown",
   "metadata": {
    "id": "GMWHAp6C28wB"
   },
   "source": [
    "Escreva um programa que leia do teclado uma sequência de número separados por vírgula (e.g. 2,4,5,6,1,6) e\n",
    "imprime a soma de todos eles.\n"
   ]
  },
  {
   "cell_type": "markdown",
   "metadata": {
    "id": "NQC-4lZU2lug"
   },
   "source": [
    "## Exercício 12"
   ]
  },
  {
   "cell_type": "markdown",
   "metadata": {
    "id": "T2MtQzBX2-9X"
   },
   "source": [
    "Escreve uma função que recebe como parâmetro uma lista e retorna 3 listas: a lista recebida dividida em 3\n",
    "partes iguais. Teste sua implementação\n",
    "b = [1, 2, 3, 4, 5, 6, 7, 8, 9, 10, 11, 12, 13]"
   ]
  },
  {
   "cell_type": "markdown",
   "metadata": {
    "id": "MritdD1u2nNJ"
   },
   "source": [
    "## Exercício 13"
   ]
  },
  {
   "cell_type": "markdown",
   "metadata": {
    "id": "uC9UllTL3Cjo"
   },
   "source": [
    "Dado o dicionário a seguir:\n",
    "speed = {'jan':47, 'feb':52, 'march':47, 'April':44, 'May':52, 'June':53, 'july':54, 'Aug':44, 'Sept':54}\n",
    "Crie uma lista com todos os valores (não as chaves!) e coloque numa lista de forma que não haja valores\n",
    "duplicados."
   ]
  },
  {
   "cell_type": "markdown",
   "metadata": {
    "id": "obsBdWbj2pDe"
   },
   "source": [
    "## Exercício 14"
   ]
  },
  {
   "cell_type": "markdown",
   "metadata": {
    "id": "MYIA1XBw3HsA"
   },
   "source": [
    "Calcule o valor mínimo, valor máximo, valor médio e a mediana da lista gerada na célula abaixo:\n",
    "Obs.: Lembrem-se, para calcular a mediana a lista deve estar ordenada!\n"
   ]
  },
  {
   "cell_type": "markdown",
   "metadata": {
    "id": "qjsdQkOs2qai"
   },
   "source": [
    "## Exercício 15"
   ]
  },
  {
   "cell_type": "markdown",
   "metadata": {
    "id": "boeh3Tlo3Q8g"
   },
   "source": [
    "Imprima a lista da célula abaixo de trás para frente.\n",
    "a = [1, 1, 2, 3, 5, 8, 13, 21, 34, 55, 89]"
   ]
  },
  {
   "cell_type": "code",
   "execution_count": null,
   "metadata": {
    "id": "eslOWtuu6WJc"
   },
   "outputs": [],
   "source": []
  }
 ],
 "metadata": {
  "colab": {
   "name": "Lista_01.ipynb",
   "provenance": []
  },
  "kernelspec": {
   "display_name": "Python 3 (ipykernel)",
   "language": "python",
   "name": "python3"
  },
  "language_info": {
   "codemirror_mode": {
    "name": "ipython",
    "version": 3
   },
   "file_extension": ".py",
   "mimetype": "text/x-python",
   "name": "python",
   "nbconvert_exporter": "python",
   "pygments_lexer": "ipython3",
   "version": "3.9.12"
  }
 },
 "nbformat": 4,
 "nbformat_minor": 1
}
