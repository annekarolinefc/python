{
 "cells": [
  {
   "cell_type": "markdown",
   "metadata": {},
   "source": [
    "# Utilizando a classe path do Python"
   ]
  },
  {
   "cell_type": "code",
   "execution_count": 1,
   "metadata": {},
   "outputs": [
    {
     "ename": "AttributeError",
     "evalue": "module 'ntpath' has no attribute 'ctime'",
     "output_type": "error",
     "traceback": [
      "\u001b[1;31m---------------------------------------------------------------------------\u001b[0m",
      "\u001b[1;31mAttributeError\u001b[0m                            Traceback (most recent call last)",
      "\u001b[1;32mc:\\Users\\Anne Karoline\\workspace 2022\\00-Projetos-2022\\python\\conteudo-teorico\\trabalhando-com-arquivos\\path.ipynb Célula: 2\u001b[0m in \u001b[0;36m<cell line: 18>\u001b[1;34m()\u001b[0m\n\u001b[0;32m     <a href='vscode-notebook-cell:/c%3A/Users/Anne%20Karoline/workspace%202022/00-Projetos-2022/python/conteudo-teorico/trabalhando-com-arquivos/path.ipynb#W2sZmlsZQ%3D%3D?line=14'>15</a>\u001b[0m     \u001b[39mprint\u001b[39m(dataCriacao)\n\u001b[0;32m     <a href='vscode-notebook-cell:/c%3A/Users/Anne%20Karoline/workspace%202022/00-Projetos-2022/python/conteudo-teorico/trabalhando-com-arquivos/path.ipynb#W2sZmlsZQ%3D%3D?line=15'>16</a>\u001b[0m     \u001b[39mprint\u001b[39m(dataModificacao)\n\u001b[1;32m---> <a href='vscode-notebook-cell:/c%3A/Users/Anne%20Karoline/workspace%202022/00-Projetos-2022/python/conteudo-teorico/trabalhando-com-arquivos/path.ipynb#W2sZmlsZQ%3D%3D?line=17'>18</a>\u001b[0m DadosArquivo()\n",
      "\u001b[1;32mc:\\Users\\Anne Karoline\\workspace 2022\\00-Projetos-2022\\python\\conteudo-teorico\\trabalhando-com-arquivos\\path.ipynb Célula: 2\u001b[0m in \u001b[0;36mDadosArquivo\u001b[1;34m()\u001b[0m\n\u001b[0;32m      <a href='vscode-notebook-cell:/c%3A/Users/Anne%20Karoline/workspace%202022/00-Projetos-2022/python/conteudo-teorico/trabalhando-com-arquivos/path.ipynb#W2sZmlsZQ%3D%3D?line=6'>7</a>\u001b[0m pathArquivo \u001b[39m=\u001b[39m path\u001b[39m.\u001b[39mrealpath(\u001b[39m\"\u001b[39m\u001b[39mNovoArquivo.txt\u001b[39m\u001b[39m\"\u001b[39m)\n\u001b[0;32m      <a href='vscode-notebook-cell:/c%3A/Users/Anne%20Karoline/workspace%202022/00-Projetos-2022/python/conteudo-teorico/trabalhando-com-arquivos/path.ipynb#W2sZmlsZQ%3D%3D?line=7'>8</a>\u001b[0m pathRelativo \u001b[39m=\u001b[39m path\u001b[39m.\u001b[39mrelpath(\u001b[39m\"\u001b[39m\u001b[39mNovoArquivo.txt\u001b[39m\u001b[39m\"\u001b[39m)\n\u001b[1;32m----> <a href='vscode-notebook-cell:/c%3A/Users/Anne%20Karoline/workspace%202022/00-Projetos-2022/python/conteudo-teorico/trabalhando-com-arquivos/path.ipynb#W2sZmlsZQ%3D%3D?line=8'>9</a>\u001b[0m dataCriacao \u001b[39m=\u001b[39m path\u001b[39m.\u001b[39;49mctime(path\u001b[39m.\u001b[39mgetctime(\u001b[39m\"\u001b[39m\u001b[39mNovoArquivo.txt\u001b[39m\u001b[39m\"\u001b[39m))\n\u001b[0;32m     <a href='vscode-notebook-cell:/c%3A/Users/Anne%20Karoline/workspace%202022/00-Projetos-2022/python/conteudo-teorico/trabalhando-com-arquivos/path.ipynb#W2sZmlsZQ%3D%3D?line=9'>10</a>\u001b[0m dataModificacao \u001b[39m=\u001b[39m path\u001b[39m.\u001b[39mctime(path\u001b[39m.\u001b[39mgetcmtime(\u001b[39m\"\u001b[39m\u001b[39mNovoArquivo.txt\u001b[39m\u001b[39m\"\u001b[39m))\n\u001b[0;32m     <a href='vscode-notebook-cell:/c%3A/Users/Anne%20Karoline/workspace%202022/00-Projetos-2022/python/conteudo-teorico/trabalhando-com-arquivos/path.ipynb#W2sZmlsZQ%3D%3D?line=10'>11</a>\u001b[0m \u001b[39mprint\u001b[39m(ArquivoExiste)\n",
      "\u001b[1;31mAttributeError\u001b[0m: module 'ntpath' has no attribute 'ctime'"
     ]
    }
   ],
   "source": [
    "from os import path \n",
    "import time \n",
    "\n",
    "def DadosArquivo():\n",
    "    ArquivoExiste = path.exists(\"NovoArquivo.txt\")\n",
    "    ehDiretorio = path.isdir(\"NovoArquivo.txt\")\n",
    "    pathArquivo = path.realpath(\"NovoArquivo.txt\")\n",
    "    pathRelativo = path.relpath(\"NovoArquivo.txt\")\n",
    "    dataCriacao = path.ctime(path.getctime(\"NovoArquivo.txt\"))\n",
    "    dataModificacao = path.ctime(path.getcmtime(\"NovoArquivo.txt\"))\n",
    "    print(ArquivoExiste)\n",
    "    print(ehDiretorio)\n",
    "    print(pathArquivo)\n",
    "    print(pathRelativo)\n",
    "    print(dataCriacao)\n",
    "    print(dataModificacao)\n",
    "    \n",
    "DadosArquivo()"
   ]
  }
 ],
 "metadata": {
  "kernelspec": {
   "display_name": "Python 3.10.5 64-bit",
   "language": "python",
   "name": "python3"
  },
  "language_info": {
   "codemirror_mode": {
    "name": "ipython",
    "version": 3
   },
   "file_extension": ".py",
   "mimetype": "text/x-python",
   "name": "python",
   "nbconvert_exporter": "python",
   "pygments_lexer": "ipython3",
   "version": "3.10.5"
  },
  "orig_nbformat": 4,
  "vscode": {
   "interpreter": {
    "hash": "d1d9262175893a3f9c089c524f593192d5b8538f6ec9ef6d8235214e3dc272a1"
   }
  }
 },
 "nbformat": 4,
 "nbformat_minor": 2
}
