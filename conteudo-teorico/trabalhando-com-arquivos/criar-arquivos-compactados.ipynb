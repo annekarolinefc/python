{
 "cells": [
  {
   "cell_type": "code",
   "execution_count": null,
   "metadata": {},
   "outputs": [],
   "source": [
    "import shutil\n",
    "from zipfile import ZipFile\n",
    "\n",
    "\n",
    "def CriaZipModo1():\n",
    "    shutil.make_archive('ArquivoCompatcado', 'zip', diretorio-que-deseja-copiar )\n",
    "\n",
    "CriaZipModo1()\n",
    "\n",
    "def CriaZipModo2():\n",
    "    with ZipFile('ArquivoZipModo2.zip', 'w') as novoZip:\n",
    "        novoZip.write('NovoArquivo.bkp')\n",
    "        novoZip.write('NovoArquivo.txt')\n",
    "        novoZip.write('zipModo1.zip.zip')\n",
    "        \n",
    "CriaZipModo2()"
   ]
  }
 ],
 "metadata": {
  "kernelspec": {
   "display_name": "Python 3.10.5 64-bit",
   "language": "python",
   "name": "python3"
  },
  "language_info": {
   "name": "python",
   "version": "3.10.5"
  },
  "orig_nbformat": 4,
  "vscode": {
   "interpreter": {
    "hash": "d1d9262175893a3f9c089c524f593192d5b8538f6ec9ef6d8235214e3dc272a1"
   }
  }
 },
 "nbformat": 4,
 "nbformat_minor": 2
}
