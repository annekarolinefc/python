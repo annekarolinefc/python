{
 "cells": [
  {
   "cell_type": "markdown",
   "metadata": {},
   "source": [
    "# Manipulando arquivos"
   ]
  },
  {
   "cell_type": "markdown",
   "metadata": {},
   "source": [
    "## Fazer cópia de arquivo"
   ]
  },
  {
   "cell_type": "code",
   "execution_count": 1,
   "metadata": {},
   "outputs": [],
   "source": [
    "import os \n",
    "from os import path \n",
    "import shutil\n",
    "\n",
    "def copiaArquivo():\n",
    "    if path.exists('NovoArquivo.txt'):\n",
    "        pathAtual = path.realpath('NovoArquivo.txt')\n",
    "        novoPath = pathAtual + '.bkp'\n",
    "        shutil.copy(pathAtual, novoPath) #origem e destino\n",
    "        shutil.copystat(pathAtual, novoPath) #copiar permissoes\n",
    "copiaArquivo()"
   ]
  },
  {
   "cell_type": "markdown",
   "metadata": {},
   "source": [
    "## Renomear arquivos existentes"
   ]
  },
  {
   "cell_type": "code",
   "execution_count": null,
   "metadata": {},
   "outputs": [],
   "source": [
    "def renomearArquivo():\n",
    "    if path.exists('NovoArquivo.txt'):\n",
    "        os.rename('NovoArquivo.txt', 'ArquivoAlterado.txt')#nome atual e novo nome\n",
    "renomearArquivo()"
   ]
  }
 ],
 "metadata": {
  "kernelspec": {
   "display_name": "Python 3.10.5 64-bit",
   "language": "python",
   "name": "python3"
  },
  "language_info": {
   "codemirror_mode": {
    "name": "ipython",
    "version": 3
   },
   "file_extension": ".py",
   "mimetype": "text/x-python",
   "name": "python",
   "nbconvert_exporter": "python",
   "pygments_lexer": "ipython3",
   "version": "3.10.5"
  },
  "orig_nbformat": 4,
  "vscode": {
   "interpreter": {
    "hash": "d1d9262175893a3f9c089c524f593192d5b8538f6ec9ef6d8235214e3dc272a1"
   }
  }
 },
 "nbformat": 4,
 "nbformat_minor": 2
}
