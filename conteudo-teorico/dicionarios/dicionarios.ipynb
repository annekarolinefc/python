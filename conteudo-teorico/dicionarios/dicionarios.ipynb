{
 "cells": [
  {
   "cell_type": "markdown",
   "metadata": {},
   "source": [
    "Dicionários são estruturas de dados muito flexíveis do Python, além de terem uma ótima performance.\n",
    "*   elementos armazenados de forma não ordenada.\n",
    "*   elementos contém uma chave e valor\n",
    "\n",
    "Sintaxe básica: {\"chave\":\"valor\"}"
   ]
  },
  {
   "cell_type": "code",
   "execution_count": null,
   "metadata": {},
   "outputs": [],
   "source": [
    "dicio = {'chave': 'valor'}"
   ]
  },
  {
   "cell_type": "markdown",
   "metadata": {},
   "source": [
    "Criando um dicionário:"
   ]
  },
  {
   "cell_type": "code",
   "execution_count": null,
   "metadata": {},
   "outputs": [],
   "source": [
    "dicionario = {'primeiro':1, 'segundo':2, 'terceiro':3}"
   ]
  },
  {
   "cell_type": "markdown",
   "metadata": {},
   "source": [
    "Também podemos utilizar a função dict do próprio Python, pasando as chaves e valores como parâmetros"
   ]
  },
  {
   "cell_type": "code",
   "execution_count": null,
   "metadata": {},
   "outputs": [],
   "source": [
    "dicionario = dict(primeiro=1, segundo=2, terceiro=3)"
   ]
  },
  {
   "cell_type": "markdown",
   "metadata": {},
   "source": [
    "Acessando elementos\n",
    "\n",
    "método get() - fornecerá o mesmo resultado. Definição de uma valor padrão, para o caso da chave não ser encontrada."
   ]
  },
  {
   "cell_type": "code",
   "execution_count": 1,
   "metadata": {},
   "outputs": [
    {
     "name": "stdout",
     "output_type": "stream",
     "text": [
      "chave não encontrada\n"
     ]
    }
   ],
   "source": [
    "pessoa = {'nome': 'Pythonico', 'altura': 1.65, 'idade':21}\n",
    "\n",
    "print(pessoa.get('peso', 'chave não encontrada'))"
   ]
  },
  {
   "cell_type": "markdown",
   "metadata": {},
   "source": [
    "Atualizando elementos"
   ]
  },
  {
   "cell_type": "code",
   "execution_count": 2,
   "metadata": {},
   "outputs": [
    {
     "name": "stdout",
     "output_type": "stream",
     "text": [
      "{'linguagem': 'Python', 'idade': 29}\n",
      "{'linguagem': 'Python', 'idade': 31}\n"
     ]
    }
   ],
   "source": [
    "python = {'linguagem': 'Python', 'idade': 29}\n",
    "print(python)\n",
    "python['idade']=31\n",
    "print(python)"
   ]
  },
  {
   "cell_type": "markdown",
   "metadata": {},
   "source": [
    "Também podemos utilizar o o método update()"
   ]
  },
  {
   "cell_type": "code",
   "execution_count": 3,
   "metadata": {},
   "outputs": [
    {
     "name": "stdout",
     "output_type": "stream",
     "text": [
      "{'linguagem': 'Python', 'idade': 29}\n",
      "{'linguagem': 'Python', 'idade': 30, 'criador': 'Guido vanRossum'}\n"
     ]
    }
   ],
   "source": [
    "python = {'linguagem': 'Python', 'idade': 29}\n",
    "print(python)\n",
    "python.update({'idade':30, 'criador':'Guido vanRossum'})\n",
    "print(python)"
   ]
  },
  {
   "cell_type": "markdown",
   "metadata": {},
   "source": [
    "Deletando elementos"
   ]
  },
  {
   "cell_type": "code",
   "execution_count": 5,
   "metadata": {},
   "outputs": [
    {
     "name": "stdout",
     "output_type": "stream",
     "text": [
      "{'linguagem': 'Python', 'idade': 29, 'tamanho': 1.7}\n",
      "{'linguagem': 'Python', 'idade': 29}\n"
     ]
    }
   ],
   "source": [
    "python = {'linguagem': 'Python', 'idade': 29, 'tamanho': 1.70}\n",
    "print(python)\n",
    "del python['tamanho']\n",
    "print(python)"
   ]
  },
  {
   "cell_type": "markdown",
   "metadata": {},
   "source": [
    "Também podemos utilizar o pop()"
   ]
  },
  {
   "cell_type": "code",
   "execution_count": 6,
   "metadata": {},
   "outputs": [
    {
     "name": "stdout",
     "output_type": "stream",
     "text": [
      "{'maça': 2, 'farinha': 2}\n",
      "6\n"
     ]
    }
   ],
   "source": [
    "sacola = {'maça':2, 'ovos':6, 'farinha':2}\n",
    "\n",
    "ovos = sacola.pop('ovos')\n",
    "\n",
    "print(sacola)\n",
    "print(ovos)"
   ]
  },
  {
   "cell_type": "markdown",
   "metadata": {},
   "source": [
    "Juntando dicionários\n",
    "\n",
    "Para juntas dois ou mais dicionários, podemos utilizar o operador **"
   ]
  },
  {
   "cell_type": "code",
   "execution_count": 7,
   "metadata": {},
   "outputs": [
    {
     "name": "stdout",
     "output_type": "stream",
     "text": [
      "{'max': 10, 'meio': 5, 'min': 6, 'passo': 2}\n"
     ]
    }
   ],
   "source": [
    "regulagem = {'max':10, 'meio': 5, 'min': 6}\n",
    "extra = {'passo': 2}\n",
    "\n",
    "#JUNÇÃO DOS DICIONARIOS\n",
    "juncao = {**regulagem, **extra}\n",
    "\n",
    "print(juncao)"
   ]
  }
 ],
 "metadata": {
  "kernelspec": {
   "display_name": "Python 3.10.5 64-bit",
   "language": "python",
   "name": "python3"
  },
  "language_info": {
   "codemirror_mode": {
    "name": "ipython",
    "version": 3
   },
   "file_extension": ".py",
   "mimetype": "text/x-python",
   "name": "python",
   "nbconvert_exporter": "python",
   "pygments_lexer": "ipython3",
   "version": "3.10.5"
  },
  "orig_nbformat": 4,
  "vscode": {
   "interpreter": {
    "hash": "d1d9262175893a3f9c089c524f593192d5b8538f6ec9ef6d8235214e3dc272a1"
   }
  }
 },
 "nbformat": 4,
 "nbformat_minor": 2
}
