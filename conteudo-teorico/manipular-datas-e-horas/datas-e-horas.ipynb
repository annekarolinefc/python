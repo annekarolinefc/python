{
 "cells": [
  {
   "cell_type": "markdown",
   "metadata": {},
   "source": [
    "# Manipulação de datas"
   ]
  },
  {
   "cell_type": "code",
   "execution_count": 3,
   "metadata": {},
   "outputs": [
    {
     "name": "stdout",
     "output_type": "stream",
     "text": [
      "Hoje é:  2022-08-22\n",
      "Partes da data:  22 8 2022\n",
      "Número do dia da semana:  0\n",
      "Nome abreviado do dia da semana:  seg\n",
      "Data e Hora:  2022-08-22 06:46:19.503085\n",
      "Hora atual:  06:46:19.503085\n"
     ]
    }
   ],
   "source": [
    "from datetime import date\n",
    "from datetime import time\n",
    "from datetime import datetime\n",
    "\n",
    "def ManipulaDataHora():\n",
    "    hoje = date.today()\n",
    "    print(\"Hoje é: \", hoje)\n",
    "    print(\"Partes da data: \", hoje.day, hoje.month, hoje.year)\n",
    "    print(\"Número do dia da semana: \", hoje.weekday())\n",
    "    dias = ['seg', 'ter', 'qua', 'qui', 'sex', 'sab', 'dom']\n",
    "    print(\"Nome abreviado do dia da semana: \", dias[hoje.weekday()])\n",
    "    \n",
    "    data = datetime.now()\n",
    "    print(\"Data e Hora: \", data)\n",
    "    \n",
    "    tempo = datetime.time(data)\n",
    "    print(\"Hora atual: \", tempo)\n",
    "    \n",
    "ManipulaDataHora()"
   ]
  },
  {
   "cell_type": "markdown",
   "metadata": {},
   "source": [
    "# Formatando datas"
   ]
  },
  {
   "cell_type": "markdown",
   "metadata": {},
   "source": [
    "Datas e horas podem ser formatados usando um conjunto de strings predefinidas.\n",
    "*   %y/%Y - ano\n",
    "*   %a/%A - dia da semana\n",
    "*   %b/%B - mÊs\n",
    "*   %d - dia do mês\n",
    "\n",
    "Data local\n",
    "*   %c - data e hora da localidade\n",
    "*   %x - data da localidade\n",
    "*   %X - hora da localidade\n",
    "\n",
    "Formatação de horas - hora local\n",
    "*   %I/%H - 12/24 horas\n",
    "*   %M - minuto\n",
    "*   %S - segundos\n",
    "*   %p - AM/PM"
   ]
  },
  {
   "cell_type": "code",
   "execution_count": 7,
   "metadata": {},
   "outputs": [
    {
     "name": "stdout",
     "output_type": "stream",
     "text": [
      "O ano é: 22\n",
      "Data e hora local: Mon Aug 22 06:53:54 2022\n",
      "A hora atual é: 06:53:54 AM\n"
     ]
    }
   ],
   "source": [
    "from datetime import datetime \n",
    "\n",
    "def FormataDataHora():\n",
    "    hoje = datetime.now()\n",
    "    \n",
    "    print(hoje.strftime(\"O ano é: %d\"))\n",
    "    \n",
    "    print(hoje.strftime(\"Data e hora local: %c\"))\n",
    "    \n",
    "    print(hoje.strftime(\"A hora atual é: %I:%M:%S %p\"))\n",
    "    \n",
    "FormataDataHora()"
   ]
  },
  {
   "cell_type": "markdown",
   "metadata": {},
   "source": [
    "# Delta tempo"
   ]
  },
  {
   "cell_type": "code",
   "execution_count": null,
   "metadata": {},
   "outputs": [],
   "source": [
    "from datetime import date \n",
    "from datetime import time \n",
    "from datetime import datetime\n",
    "from datetime import timedelta\n",
    "\n",
    "def deltaTempo():\n",
    "    delta = timedelta(days = 86, hours = 8532, minutes = 7645)\n",
    "    print(delta)\n",
    "    \n",
    "    hoje = datetime.now()\n",
    "    print(\"Data no futuro: \", hoje + delta)\n",
    "    print(\"Data no passado: \", hoje - delta)"
   ]
  },
  {
   "cell_type": "markdown",
   "metadata": {},
   "source": [
    "# Quantos dias faltam"
   ]
  },
  {
   "cell_type": "code",
   "execution_count": 11,
   "metadata": {},
   "outputs": [
    {
     "name": "stdout",
     "output_type": "stream",
     "text": [
      "Faltam 2990 dias para a data 29/10/30\n"
     ]
    }
   ],
   "source": [
    "from datetime import date\n",
    "from datetime import time \n",
    "from datetime import datetime \n",
    "from datetime import timedelta\n",
    "\n",
    "def QuantosDiasFaltam(ano, mes, dia):\n",
    "    hoje = date.today()\n",
    "    dataProcurada = date(ano, mes, dia)\n",
    "    \n",
    "    qtdDias = dataProcurada - hoje \n",
    "    \n",
    "    mensagemRetorno = \"Faltam \" + str(qtdDias).replace('days, 0:00:00', \"\") + \"dias para a data \" + dataProcurada.strftime(\"%d/%m/%y\")\n",
    "    print(mensagemRetorno)\n",
    "    \n",
    "QuantosDiasFaltam(2030, 10, 29)"
   ]
  },
  {
   "cell_type": "markdown",
   "metadata": {},
   "source": [
    "# Trabalhando com calendarios"
   ]
  },
  {
   "cell_type": "markdown",
   "metadata": {},
   "source": [
    "Criando um calendário no formato texto"
   ]
  },
  {
   "cell_type": "code",
   "execution_count": 15,
   "metadata": {},
   "outputs": [
    {
     "name": "stdout",
     "output_type": "stream",
     "text": [
      "     June 2019\n",
      "Su Mo Tu We Th Fr Sa\n",
      "                   1\n",
      " 2  3  4  5  6  7  8\n",
      " 9 10 11 12 13 14 15\n",
      "16 17 18 19 20 21 22\n",
      "23 24 25 26 27 28 29\n",
      "30\n",
      "\n"
     ]
    }
   ],
   "source": [
    "import calendar\n",
    "\n",
    "def CalendarioTexto():\n",
    "    calendarioTexto = calendar.TextCalendar(calendar.SUNDAY)\n",
    "    txtCalendario = calendarioTexto.formatmonth(2019, 6)\n",
    "    print(txtCalendario)\n",
    "\n",
    "CalendarioTexto()"
   ]
  },
  {
   "cell_type": "markdown",
   "metadata": {},
   "source": [
    "Criando um calendário no formato HTML"
   ]
  },
  {
   "cell_type": "code",
   "execution_count": 17,
   "metadata": {},
   "outputs": [
    {
     "name": "stdout",
     "output_type": "stream",
     "text": [
      "<table border=\"0\" cellpadding=\"0\" cellspacing=\"0\" class=\"month\">\n",
      "<tr><th colspan=\"7\" class=\"month\">June 2019</th></tr>\n",
      "<tr><th class=\"sun\">Sun</th><th class=\"mon\">Mon</th><th class=\"tue\">Tue</th><th class=\"wed\">Wed</th><th class=\"thu\">Thu</th><th class=\"fri\">Fri</th><th class=\"sat\">Sat</th></tr>\n",
      "<tr><td class=\"noday\">&nbsp;</td><td class=\"noday\">&nbsp;</td><td class=\"noday\">&nbsp;</td><td class=\"noday\">&nbsp;</td><td class=\"noday\">&nbsp;</td><td class=\"noday\">&nbsp;</td><td class=\"sat\">1</td></tr>\n",
      "<tr><td class=\"sun\">2</td><td class=\"mon\">3</td><td class=\"tue\">4</td><td class=\"wed\">5</td><td class=\"thu\">6</td><td class=\"fri\">7</td><td class=\"sat\">8</td></tr>\n",
      "<tr><td class=\"sun\">9</td><td class=\"mon\">10</td><td class=\"tue\">11</td><td class=\"wed\">12</td><td class=\"thu\">13</td><td class=\"fri\">14</td><td class=\"sat\">15</td></tr>\n",
      "<tr><td class=\"sun\">16</td><td class=\"mon\">17</td><td class=\"tue\">18</td><td class=\"wed\">19</td><td class=\"thu\">20</td><td class=\"fri\">21</td><td class=\"sat\">22</td></tr>\n",
      "<tr><td class=\"sun\">23</td><td class=\"mon\">24</td><td class=\"tue\">25</td><td class=\"wed\">26</td><td class=\"thu\">27</td><td class=\"fri\">28</td><td class=\"sat\">29</td></tr>\n",
      "<tr><td class=\"sun\">30</td><td class=\"noday\">&nbsp;</td><td class=\"noday\">&nbsp;</td><td class=\"noday\">&nbsp;</td><td class=\"noday\">&nbsp;</td><td class=\"noday\">&nbsp;</td><td class=\"noday\">&nbsp;</td></tr>\n",
      "</table>\n",
      "\n"
     ]
    }
   ],
   "source": [
    "import calendar\n",
    "\n",
    "def CalendarioHTML():\n",
    "    calendarioHTML = calendar.HTMLCalendar(calendar.SUNDAY)\n",
    "    HTMLCalendario = calendarioHTML.formatmonth(2019, 6)\n",
    "    print(HTMLCalendario)\n",
    "\n",
    "CalendarioHTML()"
   ]
  },
  {
   "cell_type": "markdown",
   "metadata": {},
   "source": [
    "Loop ao longo dos meses do ano"
   ]
  },
  {
   "cell_type": "code",
   "execution_count": 18,
   "metadata": {},
   "outputs": [
    {
     "name": "stdout",
     "output_type": "stream",
     "text": [
      "\n",
      "January\n",
      "February\n",
      "March\n",
      "April\n",
      "May\n",
      "June\n",
      "July\n",
      "August\n",
      "September\n",
      "October\n",
      "November\n",
      "December\n"
     ]
    }
   ],
   "source": [
    "import calendar\n",
    "from re import I \n",
    "\n",
    "def ImprimeMes():\n",
    "    for mes in calendar.month_name:\n",
    "        print(mes)\n",
    "\n",
    "ImprimeMes()"
   ]
  },
  {
   "cell_type": "markdown",
   "metadata": {},
   "source": [
    "Loop ao longo dos nomes dos dias da semana"
   ]
  },
  {
   "cell_type": "code",
   "execution_count": 19,
   "metadata": {},
   "outputs": [
    {
     "name": "stdout",
     "output_type": "stream",
     "text": [
      "Monday\n",
      "Tuesday\n",
      "Wednesday\n",
      "Thursday\n",
      "Friday\n",
      "Saturday\n",
      "Sunday\n"
     ]
    }
   ],
   "source": [
    "import calendar\n",
    "from re import I \n",
    "\n",
    "def ImprimeMes():\n",
    "    for dia in calendar.day_name:\n",
    "        print(dia)\n",
    "\n",
    "ImprimeMes()"
   ]
  }
 ],
 "metadata": {
  "kernelspec": {
   "display_name": "Python 3.10.5 64-bit",
   "language": "python",
   "name": "python3"
  },
  "language_info": {
   "codemirror_mode": {
    "name": "ipython",
    "version": 3
   },
   "file_extension": ".py",
   "mimetype": "text/x-python",
   "name": "python",
   "nbconvert_exporter": "python",
   "pygments_lexer": "ipython3",
   "version": "3.10.5"
  },
  "orig_nbformat": 4,
  "vscode": {
   "interpreter": {
    "hash": "d1d9262175893a3f9c089c524f593192d5b8538f6ec9ef6d8235214e3dc272a1"
   }
  }
 },
 "nbformat": 4,
 "nbformat_minor": 2
}
