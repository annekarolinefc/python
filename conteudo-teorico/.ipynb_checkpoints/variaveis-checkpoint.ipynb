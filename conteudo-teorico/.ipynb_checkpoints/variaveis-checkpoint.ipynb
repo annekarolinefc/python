{
 "cells": [
  {
   "cell_type": "code",
   "execution_count": null,
   "id": "f60bd84e",
   "metadata": {},
   "outputs": [],
   "source": [
    "nome = 'Anne'\n",
    "idade = 29\n",
    "ehMaiorDeIdade = True\n",
    "saldo_bancario = 1000.50\n",
    "\n",
    "print(f'{nome} é do tipo: ', type(nome))\n",
    "print(f'{idade} é do tipo: ', type(idade))\n",
    "print(f'{ehMaiorDeIdade} é do tipo: ', type(ehMaiorDeIdade))\n",
    "print(f'{saldo_bancario} é do tipo: ', type(saldo_bancario))"
   ]
  }
 ],
 "metadata": {
  "kernelspec": {
   "display_name": "Python 3 (ipykernel)",
   "language": "python",
   "name": "python3"
  },
  "language_info": {
   "codemirror_mode": {
    "name": "ipython",
    "version": 3
   },
   "file_extension": ".py",
   "mimetype": "text/x-python",
   "name": "python",
   "nbconvert_exporter": "python",
   "pygments_lexer": "ipython3",
   "version": "3.9.12"
  }
 },
 "nbformat": 4,
 "nbformat_minor": 5
}
