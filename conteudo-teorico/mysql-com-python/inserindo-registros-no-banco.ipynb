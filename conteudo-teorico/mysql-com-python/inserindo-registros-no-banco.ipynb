{
 "cells": [
  {
   "cell_type": "code",
   "execution_count": null,
   "metadata": {},
   "outputs": [],
   "source": [
    "pip install mysql-connector-python"
   ]
  },
  {
   "cell_type": "markdown",
   "metadata": {},
   "source": [
    "Instalar o mysql connector python"
   ]
  },
  {
   "cell_type": "markdown",
   "metadata": {},
   "source": [
    "Importar o módulo"
   ]
  },
  {
   "cell_type": "code",
   "execution_count": null,
   "metadata": {},
   "outputs": [],
   "source": [
    "import mysql.connector"
   ]
  },
  {
   "cell_type": "markdown",
   "metadata": {},
   "source": [
    "Conectar o banco de dados"
   ]
  },
  {
   "cell_type": "code",
   "execution_count": null,
   "metadata": {},
   "outputs": [],
   "source": [
    "mydb = mysql.connector.connect(host=\"localhost\", user=\"root\", password=\"root\", database=\"nome-do-banco\")"
   ]
  },
  {
   "cell_type": "markdown",
   "metadata": {},
   "source": [
    "Cria Query, executa SQL e salva registros no Banco de dados"
   ]
  },
  {
   "cell_type": "code",
   "execution_count": null,
   "metadata": {},
   "outputs": [],
   "source": [
    "mycursor = mydb.cursor()\n",
    "sql = \"INSERT INTO clientes (nome, idade, email) VALUES (%s, %s, %s)\"\n",
    "val = [\n",
    "    (\"Felipe\", 23, \"felipe@gmail.com\"),\n",
    "    (\"Paulo\", 30, \"paulo@gmail.com\"),\n",
    "    (\"Maria\", 19, \"maria@gmail.com\")\n",
    "]\n",
    "mycursor.executemany(sql, val)\n",
    "mydb.commit()\n",
    "\n",
    "print(mycursor.rowcount, \"Registros Inseridos\")"
   ]
  },
  {
   "cell_type": "code",
   "execution_count": null,
   "metadata": {},
   "outputs": [],
   "source": [
    "import mysql.connector\n",
    "\n",
    "#Conecta no Banco de Dados\n",
    "mydb = mysql.connector.connect(host=\"localhost\", user=\"root\", password=\"root\", database=\"nome-do-banco\")\n",
    "\n",
    "# Cria Query, executa SQL e salva registros no Banco de dados\n",
    "mycursor = mydb.cursor()\n",
    "sql = \"INSERT INTO clientes (nome, idade, email) VALUES (%s, %s, %s)\"\n",
    "val = [\n",
    "    (\"Felipe\", 23, \"felipe@gmail.com\"),\n",
    "    (\"Paulo\", 30, \"paulo@gmail.com\"),\n",
    "    (\"Maria\", 19, \"maria@gmail.com\")\n",
    "]\n",
    "mycursor.executemany(sql, val)\n",
    "mydb.commit()\n",
    "\n",
    "print(mycursor.rowcount, \"Registros Inseridos\")"
   ]
  }
 ],
 "metadata": {
  "kernelspec": {
   "display_name": "Python 3.10.5 64-bit",
   "language": "python",
   "name": "python3"
  },
  "language_info": {
   "name": "python",
   "version": "3.10.5"
  },
  "orig_nbformat": 4,
  "vscode": {
   "interpreter": {
    "hash": "d1d9262175893a3f9c089c524f593192d5b8538f6ec9ef6d8235214e3dc272a1"
   }
  }
 },
 "nbformat": 4,
 "nbformat_minor": 2
}
