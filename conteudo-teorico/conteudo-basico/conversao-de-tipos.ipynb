{
 "cells": [
  {
   "cell_type": "code",
   "execution_count": 6,
   "metadata": {},
   "outputs": [
    {
     "name": "stdout",
     "output_type": "stream",
     "text": [
      "<class 'str'>\n",
      "<class 'int'>\n"
     ]
    }
   ],
   "source": [
    "# INT(A) - CONVERTENDO STRING E NUMEROS EM PONTO FLUTUANTE FLOAT PARA INTEIRO\n",
    "a = '2'\n",
    "new_a = int(a)\n",
    "\n",
    "print(type(a))\n",
    "print(type(new_a))"
   ]
  },
  {
   "cell_type": "code",
   "execution_count": 4,
   "metadata": {},
   "outputs": [
    {
     "name": "stdout",
     "output_type": "stream",
     "text": [
      "<class 'str'>\n",
      "<class 'float'>\n"
     ]
    }
   ],
   "source": [
    "# FLOAT(A) - CONVERTENDO STRING PARA PONTO FLUTUANTE\n",
    "a = '2.89'\n",
    "new_a = float(a)\n",
    "\n",
    "print(type(a))\n",
    "print(type(new_a))"
   ]
  },
  {
   "cell_type": "code",
   "execution_count": 7,
   "metadata": {},
   "outputs": [
    {
     "name": "stdout",
     "output_type": "stream",
     "text": [
      "<class 'int'>\n",
      "<class 'str'>\n"
     ]
    }
   ],
   "source": [
    "#STR(A) - CONVERTE A PARA UMA REPRESENTAÇÃO EM STRING\n",
    "# POSSIVEL CONVERTER: INT, FLOAT, LIST, TUPLE E DICT\n",
    "a = 3\n",
    "new_a = str(3)\n",
    "\n",
    "print(type(a))\n",
    "print(type(new_a))"
   ]
  },
  {
   "cell_type": "code",
   "execution_count": null,
   "metadata": {},
   "outputs": [],
   "source": [
    "#LIST(A) - CONVERTE A PARA UMA LISTA\n",
    "#POSSIVEL CONVERTER STR, TUPLE, DICT\n"
   ]
  },
  {
   "cell_type": "markdown",
   "metadata": {},
   "source": [
    "Convertendo lista em dicionario:"
   ]
  },
  {
   "cell_type": "code",
   "execution_count": 1,
   "metadata": {},
   "outputs": [
    {
     "name": "stdout",
     "output_type": "stream",
     "text": [
      "{'name': 'Johnny', 'age': '27', 'address': 'New York'}\n"
     ]
    }
   ],
   "source": [
    "key_list = ['name', 'age', 'address']\n",
    "value_list = ['Johnny', '27', 'New York']\n",
    "\n",
    "dict_from_list = dict(zip(key_list, value_list))\n",
    "print(dict_from_list)"
   ]
  },
  {
   "cell_type": "code",
   "execution_count": null,
   "metadata": {},
   "outputs": [],
   "source": [
    "#TUPLE(A) - CONVERTE A PARA UMA TUPLA\n",
    "#POSSIVEL CONVERTER STR, LIST"
   ]
  }
 ],
 "metadata": {
  "kernelspec": {
   "display_name": "Python 3.10.5 64-bit",
   "language": "python",
   "name": "python3"
  },
  "language_info": {
   "codemirror_mode": {
    "name": "ipython",
    "version": 3
   },
   "file_extension": ".py",
   "mimetype": "text/x-python",
   "name": "python",
   "nbconvert_exporter": "python",
   "pygments_lexer": "ipython3",
   "version": "3.10.5"
  },
  "orig_nbformat": 4,
  "vscode": {
   "interpreter": {
    "hash": "d1d9262175893a3f9c089c524f593192d5b8538f6ec9ef6d8235214e3dc272a1"
   }
  }
 },
 "nbformat": 4,
 "nbformat_minor": 2
}
