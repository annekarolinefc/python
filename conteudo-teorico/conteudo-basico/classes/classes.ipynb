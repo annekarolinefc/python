{
 "cells": [
  {
   "cell_type": "code",
   "execution_count": null,
   "metadata": {},
   "outputs": [],
   "source": []
  },
  {
   "cell_type": "code",
   "execution_count": null,
   "metadata": {},
   "outputs": [],
   "source": [
    "class minhaClasse():\n",
    "    def __init__(self):\n",
    "        self.meuAtributo = \"Passou pelo construtor!\"\n",
    "    def meuMetodo(self):\n",
    "        print(\"Passou pelo meuMetodo\")\n",
    "    def meuMetodo2(self, valor):\n",
    "        self.outroAtributo = valor\n",
    "        print(self.outroAtributo)\n",
    "        \n",
    "def criaObjeto():\n",
    "    meuObj = minhaClasse()\n",
    "    var1 = meuObj.meuAtributo\n",
    "    print(var1)\n",
    "    \n",
    "    meuObj.meuMetodo()\n",
    "    meuObj.meuMetodo2(\"Executando um método\")\n",
    "    "
   ]
  }
 ],
 "metadata": {
  "kernelspec": {
   "display_name": "Python 3.10.5 64-bit",
   "language": "python",
   "name": "python3"
  },
  "language_info": {
   "name": "python",
   "version": "3.10.5"
  },
  "orig_nbformat": 4,
  "vscode": {
   "interpreter": {
    "hash": "d1d9262175893a3f9c089c524f593192d5b8538f6ec9ef6d8235214e3dc272a1"
   }
  }
 },
 "nbformat": 4,
 "nbformat_minor": 2
}
