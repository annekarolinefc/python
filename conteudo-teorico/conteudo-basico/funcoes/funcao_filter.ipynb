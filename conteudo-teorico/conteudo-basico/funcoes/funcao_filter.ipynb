{
 "cells": [
  {
   "cell_type": "code",
   "execution_count": null,
   "metadata": {},
   "outputs": [],
   "source": []
  },
  {
   "cell_type": "markdown",
   "metadata": {},
   "source": [
    "# FUNÇÃO FILTER"
   ]
  },
  {
   "cell_type": "markdown",
   "metadata": {},
   "source": [
    "A função filter é utilizada para filtrar uma sequência (tupla, set, lista, dict) de acordo com uma função que deve retornar TRUE ou FALSE"
   ]
  },
  {
   "cell_type": "code",
   "execution_count": 5,
   "metadata": {},
   "outputs": [
    {
     "name": "stdout",
     "output_type": "stream",
     "text": [
      "['joão.paulo@gmail.com', 'carla.gomes@hotmail.com', 'nicolas@gmail.com']\n",
      "['joão.paulo@gmail.com', 'nicolas@gmail.com']\n"
     ]
    }
   ],
   "source": [
    "emails = [\n",
    "    'joÃO.pauLo@GMAIL.com',\n",
    "    '        CARLA.gomes@HOTMAIL.com   ',\n",
    "    'NIcolAS@gmail.com     '\n",
    "]\n",
    "\n",
    "#O CÓDIGO IRA LIMPAR A LISTA DE E-MAILS, REMOVENDO ESPAÇOS E TRANSFORMANDO TODOS OS CARACTERES EM MINUSCULO\n",
    "emails = list(map(lambda email: email.strip().lower(), emails))\n",
    "\n",
    "emails_gmail = list(filter(lambda email: 'gmail.com' in email, emails))\n",
    "\n",
    "print(emails)\n",
    "print(emails_gmail)"
   ]
  }
 ],
 "metadata": {
  "kernelspec": {
   "display_name": "Python 3.10.5 64-bit",
   "language": "python",
   "name": "python3"
  },
  "language_info": {
   "codemirror_mode": {
    "name": "ipython",
    "version": 3
   },
   "file_extension": ".py",
   "mimetype": "text/x-python",
   "name": "python",
   "nbconvert_exporter": "python",
   "pygments_lexer": "ipython3",
   "version": "3.10.5"
  },
  "orig_nbformat": 4,
  "vscode": {
   "interpreter": {
    "hash": "d1d9262175893a3f9c089c524f593192d5b8538f6ec9ef6d8235214e3dc272a1"
   }
  }
 },
 "nbformat": 4,
 "nbformat_minor": 2
}
