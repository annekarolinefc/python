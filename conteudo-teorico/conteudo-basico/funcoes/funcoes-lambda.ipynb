{
 "cells": [
  {
   "cell_type": "markdown",
   "metadata": {},
   "source": [
    "# Funções Lambda"
   ]
  },
  {
   "cell_type": "markdown",
   "metadata": {},
   "source": [
    "Funções Lambda são funcões simples - com uma linha de codigo - e anônimas (não devem possuir nomes).\n",
    "Muito úteis quando é necessário criar uma função para uso local e que não será reutilizada por outras parte do código."
   ]
  },
  {
   "cell_type": "code",
   "execution_count": 2,
   "metadata": {},
   "outputs": [
    {
     "name": "stdout",
     "output_type": "stream",
     "text": [
      "12.25\n"
     ]
    }
   ],
   "source": [
    "def f(x):\n",
    "    return x**2\n",
    "func = f \n",
    "func(3.5)\n",
    "\n",
    "print(func(3.5))"
   ]
  },
  {
   "cell_type": "code",
   "execution_count": 3,
   "metadata": {},
   "outputs": [
    {
     "name": "stdout",
     "output_type": "stream",
     "text": [
      "['joÃO.pauLo@GMAIL.com', '        CARLA.gomes@HOTMAIL.com   ', 'NIcolAS@gmail.com     ']\n",
      "['joão.paulo@gmail.com', 'carla.gomes@hotmail.com', 'nicolas@gmail.com']\n"
     ]
    }
   ],
   "source": [
    "emails = [\n",
    "    'joÃO.pauLo@GMAIL.com',\n",
    "    '        CARLA.gomes@HOTMAIL.com   ',\n",
    "    'NIcolAS@gmail.com     '\n",
    "]\n",
    "\n",
    "print(emails)\n",
    "\n",
    "#O CÓDIGO IRA LIMPAR A LISTA DE E-MAILS, REMOVENDO ESPAÇOS E TRANSFORMANDO TODOS OS CARACTERES EM MINUSCULO\n",
    "emails = list(map(lambda email: email.strip().lower(), emails))\n",
    "\n",
    "print(emails)"
   ]
  }
 ],
 "metadata": {
  "kernelspec": {
   "display_name": "Python 3.10.5 64-bit",
   "language": "python",
   "name": "python3"
  },
  "language_info": {
   "codemirror_mode": {
    "name": "ipython",
    "version": 3
   },
   "file_extension": ".py",
   "mimetype": "text/x-python",
   "name": "python",
   "nbconvert_exporter": "python",
   "pygments_lexer": "ipython3",
   "version": "3.10.5"
  },
  "orig_nbformat": 4,
  "vscode": {
   "interpreter": {
    "hash": "d1d9262175893a3f9c089c524f593192d5b8538f6ec9ef6d8235214e3dc272a1"
   }
  }
 },
 "nbformat": 4,
 "nbformat_minor": 2
}
