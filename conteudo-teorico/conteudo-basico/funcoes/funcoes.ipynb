{
 "cells": [
  {
   "cell_type": "markdown",
   "metadata": {},
   "source": [
    "# Funções"
   ]
  },
  {
   "cell_type": "markdown",
   "metadata": {},
   "source": [
    "## Definindo e executando funções"
   ]
  },
  {
   "cell_type": "markdown",
   "metadata": {},
   "source": [
    "Para declarar uma função, utiliza-se a palavra reservada *def*"
   ]
  },
  {
   "cell_type": "code",
   "execution_count": null,
   "metadata": {},
   "outputs": [],
   "source": [
    "def function():\n",
    "    pass"
   ]
  },
  {
   "cell_type": "markdown",
   "metadata": {},
   "source": [
    "Parametros sem funções:"
   ]
  },
  {
   "cell_type": "code",
   "execution_count": 3,
   "metadata": {},
   "outputs": [
    {
     "name": "stdout",
     "output_type": "stream",
     "text": [
      "Aprendendo funções\n"
     ]
    }
   ],
   "source": [
    "# DEFININDO A FUNÇÃO\n",
    "def nome_da_funcao():\n",
    "    print('Aprendendo funções')\n",
    "    \n",
    "# EXECUTANDO A FUNÇÃO\n",
    "nome_da_funcao()"
   ]
  },
  {
   "cell_type": "code",
   "execution_count": 1,
   "metadata": {},
   "outputs": [
    {
     "name": "stdout",
     "output_type": "stream",
     "text": [
      "Hello\n"
     ]
    }
   ],
   "source": [
    "def say_hello():\n",
    "    print('Hello')\n",
    "    \n",
    "say_hello()"
   ]
  },
  {
   "cell_type": "code",
   "execution_count": 2,
   "metadata": {},
   "outputs": [
    {
     "name": "stdout",
     "output_type": "stream",
     "text": [
      "2.0\n"
     ]
    }
   ],
   "source": [
    "def media():\n",
    "    valor = (1+2+3)/3\n",
    "    return valor\n",
    "\n",
    "print(media())"
   ]
  },
  {
   "cell_type": "markdown",
   "metadata": {},
   "source": [
    "## Utilizando parâmetros"
   ]
  },
  {
   "cell_type": "code",
   "execution_count": null,
   "metadata": {},
   "outputs": [],
   "source": [
    "def nome_da_funcao(arg1, arg2):\n",
    "    # faça alguma coisa \n",
    "    #retorne o resultado desejado\n",
    "    pass"
   ]
  },
  {
   "cell_type": "code",
   "execution_count": 4,
   "metadata": {},
   "outputs": [
    {
     "name": "stdout",
     "output_type": "stream",
     "text": [
      "2.0\n"
     ]
    }
   ],
   "source": [
    "def media(number_1, number_2, number_3):\n",
    "    return (number_1+number_2+number_3)/3\n",
    "\n",
    "print(media(1,2,3))"
   ]
  },
  {
   "cell_type": "code",
   "execution_count": 1,
   "metadata": {},
   "outputs": [],
   "source": [
    "def printName(nome, sobrenome, inverte=False):\n",
    "    if inverte:\n",
    "        print(nome, sobrenome)\n",
    "    else:\n",
    "        print(sobrenome, nome)"
   ]
  },
  {
   "cell_type": "markdown",
   "metadata": {},
   "source": [
    "Parâmetros posicionais:"
   ]
  },
  {
   "cell_type": "code",
   "execution_count": 2,
   "metadata": {},
   "outputs": [
    {
     "name": "stdout",
     "output_type": "stream",
     "text": [
      "Anne Carmo\n"
     ]
    }
   ],
   "source": [
    "printName('Anne', 'Carmo', True)"
   ]
  },
  {
   "cell_type": "markdown",
   "metadata": {},
   "source": [
    "Parâmetro com palavra-chave:"
   ]
  },
  {
   "cell_type": "code",
   "execution_count": 6,
   "metadata": {},
   "outputs": [
    {
     "name": "stdout",
     "output_type": "stream",
     "text": [
      "Anne Carmo\n"
     ]
    }
   ],
   "source": [
    "printName(sobrenome='Carmo', nome= 'Anne', inverte=True)"
   ]
  },
  {
   "cell_type": "markdown",
   "metadata": {},
   "source": [
    "Parâmetro com default:"
   ]
  },
  {
   "cell_type": "markdown",
   "metadata": {},
   "source": [
    "Quando se omite um determinado parâmetro, utiliza-se o valor padrão"
   ]
  },
  {
   "cell_type": "code",
   "execution_count": 10,
   "metadata": {},
   "outputs": [
    {
     "name": "stdout",
     "output_type": "stream",
     "text": [
      "[1, 2, 3]\n",
      "[1, 2, 3]\n",
      "[0.0, 0.5, 1.0]\n",
      "[0.0, 0.5, 1.0]\n"
     ]
    }
   ],
   "source": [
    "def func(a, norm=False):\n",
    "    if norm:\n",
    "        return [(x-min(a))/(max(a)- min(a)) for x in a]\n",
    "    else:\n",
    "        return a\n",
    "    \n",
    "a = [1, 2, 3]\n",
    "print(func(a))\n",
    "print(func(a, False))\n",
    "print(func(a, True))\n",
    "print(func(a, norm=True))"
   ]
  },
  {
   "cell_type": "markdown",
   "metadata": {},
   "source": [
    "## Parâmetros não nomeados"
   ]
  },
  {
   "cell_type": "markdown",
   "metadata": {},
   "source": [
    "Quando nao se sabe quantos parâmetros uma função receberá, utilize *args para detonar este comportamento:"
   ]
  },
  {
   "cell_type": "code",
   "execution_count": 11,
   "metadata": {},
   "outputs": [
    {
     "name": "stdout",
     "output_type": "stream",
     "text": [
      "1\n",
      "2\n",
      "3\n",
      "a\n",
      "['b, c']\n",
      "6.3\n"
     ]
    }
   ],
   "source": [
    "def func(*args):\n",
    "    for item in args:\n",
    "        print(item)\n",
    "        \n",
    "func(1, 2, 3, 'a', ['b, c'], 6.3)"
   ]
  },
  {
   "cell_type": "markdown",
   "metadata": {},
   "source": [
    "Da mesma maneira, você pode usar um comportamento similar ao chamar a função:"
   ]
  },
  {
   "cell_type": "code",
   "execution_count": 12,
   "metadata": {},
   "outputs": [
    {
     "name": "stdout",
     "output_type": "stream",
     "text": [
      "a:1, b:2, c:3\n",
      "None\n"
     ]
    }
   ],
   "source": [
    "def func(a, b, c):\n",
    "    print('a:{}, b:{}, c:{}'. format(a, b, c))\n",
    "    \n",
    "params = [1, 2, 3]\n",
    "\n",
    "print(func(*params)) # func(*params) = func(params[0], params[1], params[2])"
   ]
  },
  {
   "cell_type": "markdown",
   "metadata": {},
   "source": [
    "Desenrolando dicionarios em parâmetros"
   ]
  },
  {
   "cell_type": "code",
   "execution_count": 21,
   "metadata": {},
   "outputs": [
    {
     "name": "stdout",
     "output_type": "stream",
     "text": [
      "a: 10, b: hello, c:1.7\n"
     ]
    }
   ],
   "source": [
    "def func(a, b, c):\n",
    "    print('a: {}, b: {}, c:{}'.format(a, b, c))\n",
    "    \n",
    "params = {'a':10, 'b':'hello', 'c':1.7}\n",
    "\n",
    "func(**params)"
   ]
  },
  {
   "cell_type": "markdown",
   "metadata": {},
   "source": [
    "Desenrolando listas e tuplas"
   ]
  },
  {
   "cell_type": "code",
   "execution_count": 22,
   "metadata": {},
   "outputs": [
    {
     "name": "stdout",
     "output_type": "stream",
     "text": [
      "1 2\n"
     ]
    }
   ],
   "source": [
    "a = [1, 2, 3]\n",
    "\n",
    "b, c, d = a\n",
    "\n",
    "print(b, c)"
   ]
  },
  {
   "cell_type": "markdown",
   "metadata": {},
   "source": [
    "## Tipos de retorno"
   ]
  },
  {
   "cell_type": "markdown",
   "metadata": {},
   "source": [
    "Python permite que uma função retorne vários objetos de apenas uma vez."
   ]
  },
  {
   "cell_type": "code",
   "execution_count": 19,
   "metadata": {},
   "outputs": [
    {
     "name": "stdout",
     "output_type": "stream",
     "text": [
      "4 27 256\n"
     ]
    }
   ],
   "source": [
    "def func(a, b, c):\n",
    "    return a**2, b**3, c**4\n",
    "\n",
    "a, b, c = func(2, 3, 4)\n",
    "\n",
    "print(a, b, c)"
   ]
  },
  {
   "cell_type": "markdown",
   "metadata": {},
   "source": [
    "print() é uma função pré definida em Python."
   ]
  },
  {
   "cell_type": "code",
   "execution_count": 5,
   "metadata": {},
   "outputs": [
    {
     "name": "stdout",
     "output_type": "stream",
     "text": [
      "Hello Anne\n"
     ]
    }
   ],
   "source": [
    "def greeting(nome):\n",
    "    print(f'Hello {nome}.')\n",
    "    \n",
    "greeting('Anne')"
   ]
  },
  {
   "cell_type": "markdown",
   "metadata": {},
   "source": [
    "Usando return"
   ]
  },
  {
   "cell_type": "code",
   "execution_count": 6,
   "metadata": {},
   "outputs": [
    {
     "data": {
      "text/plain": [
       "9"
      ]
     },
     "execution_count": 6,
     "metadata": {},
     "output_type": "execute_result"
    }
   ],
   "source": [
    "def add_num(num1, num2):\n",
    "    return num1+num2\n",
    "\n",
    "add_num(4, 5)"
   ]
  },
  {
   "cell_type": "code",
   "execution_count": null,
   "metadata": {},
   "outputs": [],
   "source": [
    "def is_prime(num):\n",
    "    for n in range(2, num):\n",
    "        if num%n==0:\n",
    "            print(num, 'não é primo')\n",
    "            break\n",
    "    else:\n",
    "        print(num, 'é primo')"
   ]
  },
  {
   "cell_type": "markdown",
   "metadata": {},
   "source": [
    "## Funções e Dataset"
   ]
  },
  {
   "cell_type": "code",
   "execution_count": 5,
   "metadata": {},
   "outputs": [],
   "source": [
    "dados = {\n",
    "    'Crossfox': {'km': 35000, 'ano': 2005}, \n",
    "    'DS5': {'km': 17000, 'ano': 2015}, \n",
    "    'Fusca': {'km': 130000, 'ano': 1979}, \n",
    "    'Jetta': {'km': 56000, 'ano': 2011}, \n",
    "    'Passat': {'km': 62000, 'ano': 1999}\n",
    "}"
   ]
  },
  {
   "cell_type": "code",
   "execution_count": 7,
   "metadata": {},
   "outputs": [
    {
     "name": "stdout",
     "output_type": "stream",
     "text": [
      "{'Crossfox': 2500.0, 'DS5': 4250.0, 'Fusca': 3250.0, 'Jetta': 7000.0, 'Passat': 3100.0}\n"
     ]
    }
   ],
   "source": [
    "def km_media(dataset, ano_atual):\n",
    "    result = {}\n",
    "    for item in dataset.items():\n",
    "        media = item[1]['km'] / (ano_atual - item[1]['ano'])\n",
    "        result.update({item[0]:media})      \n",
    "    return result\n",
    "\n",
    "print(km_media(dados, 2019))"
   ]
  }
 ],
 "metadata": {
  "kernelspec": {
   "display_name": "Python 3.10.5 64-bit",
   "language": "python",
   "name": "python3"
  },
  "language_info": {
   "codemirror_mode": {
    "name": "ipython",
    "version": 3
   },
   "file_extension": ".py",
   "mimetype": "text/x-python",
   "name": "python",
   "nbconvert_exporter": "python",
   "pygments_lexer": "ipython3",
   "version": "3.10.5"
  },
  "orig_nbformat": 4,
  "vscode": {
   "interpreter": {
    "hash": "d1d9262175893a3f9c089c524f593192d5b8538f6ec9ef6d8235214e3dc272a1"
   }
  }
 },
 "nbformat": 4,
 "nbformat_minor": 2
}
