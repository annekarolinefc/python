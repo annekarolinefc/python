{
 "cells": [
  {
   "cell_type": "code",
   "execution_count": null,
   "metadata": {},
   "outputs": [],
   "source": []
  },
  {
   "cell_type": "markdown",
   "metadata": {},
   "source": [
    "# FUNÇÃO MAP"
   ]
  },
  {
   "cell_type": "markdown",
   "metadata": {},
   "source": [
    "A função map é utilizada para executar determinada função em todos os elementos de uma sequência (tupla, set, lista)\n",
    "\n",
    "Muito útil para EVITAR LOOPS for e while"
   ]
  },
  {
   "cell_type": "markdown",
   "metadata": {},
   "source": [
    "O exemplo abaixo multiplica o valor por 1.08,transforma os valores em string e formata com duas casas decimais."
   ]
  },
  {
   "cell_type": "code",
   "execution_count": 3,
   "metadata": {},
   "outputs": [
    {
     "name": "stdout",
     "output_type": "stream",
     "text": [
      "[159, 147, 589, 859, 778, 986]\n",
      "['R$ 171.72', 'R$ 158.76', 'R$ 636.12', 'R$ 927.72', 'R$ 840.24', 'R$ 1064.88']\n"
     ]
    }
   ],
   "source": [
    "valores = [159, 147, 589, 859, 778, 986]\n",
    "\n",
    "novos_valores = list(map(lambda valor: f'R$ {valor * 1.08:.2f}', valores))\n",
    "\n",
    "print(valores)\n",
    "print(novos_valores)"
   ]
  }
 ],
 "metadata": {
  "kernelspec": {
   "display_name": "Python 3.10.5 64-bit",
   "language": "python",
   "name": "python3"
  },
  "language_info": {
   "codemirror_mode": {
    "name": "ipython",
    "version": 3
   },
   "file_extension": ".py",
   "mimetype": "text/x-python",
   "name": "python",
   "nbconvert_exporter": "python",
   "pygments_lexer": "ipython3",
   "version": "3.10.5"
  },
  "orig_nbformat": 4,
  "vscode": {
   "interpreter": {
    "hash": "d1d9262175893a3f9c089c524f593192d5b8538f6ec9ef6d8235214e3dc272a1"
   }
  }
 },
 "nbformat": 4,
 "nbformat_minor": 2
}
