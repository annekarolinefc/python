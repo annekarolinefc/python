{
 "cells": [
  {
   "cell_type": "markdown",
   "metadata": {},
   "source": [
    "Exceções indicam uma condição fora do comum ocorrendo em um programa."
   ]
  },
  {
   "cell_type": "code",
   "execution_count": 2,
   "metadata": {},
   "outputs": [
    {
     "name": "stdout",
     "output_type": "stream",
     "text": [
      "No failures so the sucess failure ratio is undefined.\n",
      "Now here\n"
     ]
    }
   ],
   "source": [
    "numSucesses = 10\n",
    "numFailures = 0\n",
    "try:\n",
    "    sucessFailureRatio = numSucesses/float(numFailures)\n",
    "    print('The sucess/failure ratio is ', sucessFailureRatio)\n",
    "except ZeroDivisionError:\n",
    "    print('No failures so the sucess failure ratio is undefined.')\n",
    "print('Now here')"
   ]
  }
 ],
 "metadata": {
  "kernelspec": {
   "display_name": "Python 3.10.5 64-bit",
   "language": "python",
   "name": "python3"
  },
  "language_info": {
   "codemirror_mode": {
    "name": "ipython",
    "version": 3
   },
   "file_extension": ".py",
   "mimetype": "text/x-python",
   "name": "python",
   "nbconvert_exporter": "python",
   "pygments_lexer": "ipython3",
   "version": "3.10.5"
  },
  "orig_nbformat": 4,
  "vscode": {
   "interpreter": {
    "hash": "d1d9262175893a3f9c089c524f593192d5b8538f6ec9ef6d8235214e3dc272a1"
   }
  }
 },
 "nbformat": 4,
 "nbformat_minor": 2
}
