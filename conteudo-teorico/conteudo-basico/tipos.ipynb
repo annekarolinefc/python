{
 "cells": [
  {
   "cell_type": "markdown",
   "metadata": {},
   "source": [
    "# Tipos de dados"
   ]
  },
  {
   "cell_type": "markdown",
   "metadata": {},
   "source": [
    "Os tipos definem que operações podem ser realizadas em cada objeto\n",
    "Python possui 4 tipos de objetos escalares (objetos que são divisíveis):\n",
    "\n",
    "*   Números (int e float)\n",
    "*   Booleanos\n",
    "*   String\n",
    "*   None"
   ]
  },
  {
   "cell_type": "code",
   "execution_count": 2,
   "metadata": {},
   "outputs": [],
   "source": [
    "# int - representam numeros inteiros\n",
    "idade = 30\n",
    "# float - representam números reais em ponto flutuante\n",
    "preco = 4.15\n",
    "# bool - representam valores lógicos booleanos TRUE E FALSE\n",
    "estaAcessa = False\n",
    "# NoneType é um tipo com valor único, denotando None representando a ausência de quaisquer outros valores.\n",
    "nulo = None"
   ]
  },
  {
   "cell_type": "code",
   "execution_count": 3,
   "metadata": {},
   "outputs": [
    {
     "name": "stdout",
     "output_type": "stream",
     "text": [
      "inteiro: 10, decimal 1.3, booleano: True, nulo: None\n"
     ]
    }
   ],
   "source": [
    "inteiro = 10\n",
    "decimal = 1.3\n",
    "booleano = True\n",
    "nulo = None\n",
    "\n",
    "print('inteiro: {}, decimal {}, booleano: {}, nulo: {}'.format(inteiro, decimal, booleano, nulo))"
   ]
  }
 ],
 "metadata": {
  "kernelspec": {
   "display_name": "Python 3.10.5 64-bit",
   "language": "python",
   "name": "python3"
  },
  "language_info": {
   "codemirror_mode": {
    "name": "ipython",
    "version": 3
   },
   "file_extension": ".py",
   "mimetype": "text/x-python",
   "name": "python",
   "nbconvert_exporter": "python",
   "pygments_lexer": "ipython3",
   "version": "3.10.5"
  },
  "orig_nbformat": 4,
  "vscode": {
   "interpreter": {
    "hash": "d1d9262175893a3f9c089c524f593192d5b8538f6ec9ef6d8235214e3dc272a1"
   }
  }
 },
 "nbformat": 4,
 "nbformat_minor": 2
}
