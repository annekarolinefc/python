{
 "cells": [
  {
   "cell_type": "code",
   "execution_count": 2,
   "id": "f60bd84e",
   "metadata": {},
   "outputs": [
    {
     "name": "stdout",
     "output_type": "stream",
     "text": [
      "Anne é do tipo:  <class 'str'>\n",
      "29 é do tipo:  <class 'int'>\n",
      "True é do tipo:  <class 'bool'>\n",
      "1000.5 é do tipo:  <class 'float'>\n"
     ]
    }
   ],
   "source": [
    "# Python manipula Objetos.\n",
    "# Cada objeto tem um tipo\n",
    "\n",
    "# OPERADOR: associa o valor de uma expressao a variável.\n",
    "# EXPRESSOES: sempre resultam em um objeto de algum tipo.\n",
    "nome = 'Anne'\n",
    "idade = 29\n",
    "ehMaiorDeIdade = True\n",
    "saldo_bancario = 1000.50\n",
    "\n",
    "print(f'{nome} é do tipo: ', type(nome))\n",
    "print(f'{idade} é do tipo: ', type(idade))\n",
    "print(f'{ehMaiorDeIdade} é do tipo: ', type(ehMaiorDeIdade))\n",
    "print(f'{saldo_bancario} é do tipo: ', type(saldo_bancario))"
   ]
  }
 ],
 "metadata": {
  "kernelspec": {
   "display_name": "Python 3.10.5 64-bit",
   "language": "python",
   "name": "python3"
  },
  "language_info": {
   "codemirror_mode": {
    "name": "ipython",
    "version": 3
   },
   "file_extension": ".py",
   "mimetype": "text/x-python",
   "name": "python",
   "nbconvert_exporter": "python",
   "pygments_lexer": "ipython3",
   "version": "3.10.5"
  },
  "vscode": {
   "interpreter": {
    "hash": "d1d9262175893a3f9c089c524f593192d5b8538f6ec9ef6d8235214e3dc272a1"
   }
  }
 },
 "nbformat": 4,
 "nbformat_minor": 5
}
