{
 "cells": [
  {
   "cell_type": "markdown",
   "metadata": {},
   "source": [
    "# SETS | CONJUNTOS - {}"
   ]
  },
  {
   "cell_type": "markdown",
   "metadata": {},
   "source": [
    "O set é um tipo de dado bastante peculiar do Python. \n",
    "*   São desordenados\n",
    "*   Não possuem elementos duplicados - cada elemento é unico\n",
    "*   Um set em si pode ser modificado, contudo os elementos contidos dentro dele precisam ser imutáveis.\n",
    "*   Possuem funções matemáticas de operação e conjuntos, por padrão.\n",
    "\n",
    "{item1, item2, item3, item4}"
   ]
  },
  {
   "cell_type": "markdown",
   "metadata": {},
   "source": [
    "### Criação de conjuntos"
   ]
  },
  {
   "cell_type": "markdown",
   "metadata": {},
   "source": [
    "## Conjutos Homogeneos"
   ]
  },
  {
   "cell_type": "code",
   "execution_count": 1,
   "metadata": {},
   "outputs": [
    {
     "name": "stdout",
     "output_type": "stream",
     "text": [
      "{0, 1, 2, 3, 4}\n"
     ]
    }
   ],
   "source": [
    "c = {3, 0, 1, 4, 2 }\n",
    "print(c) # O conjunto é ordenado"
   ]
  },
  {
   "cell_type": "code",
   "execution_count": 2,
   "metadata": {},
   "outputs": [
    {
     "name": "stdout",
     "output_type": "stream",
     "text": [
      "True\n"
     ]
    }
   ],
   "source": [
    "c = {3, 0, 1, 4, 2 }\n",
    "c1 = {3,3, 0, 1, 4, 4, 2 }\n",
    "print(c==c1) # ordem e repetição nao importa"
   ]
  },
  {
   "cell_type": "markdown",
   "metadata": {},
   "source": [
    "## Conjuntos Heterogeneos"
   ]
  },
  {
   "cell_type": "code",
   "execution_count": 3,
   "metadata": {},
   "outputs": [
    {
     "name": "stdout",
     "output_type": "stream",
     "text": [
      "{1.4, True, 3, '0', 'Sim', None}\n"
     ]
    }
   ],
   "source": [
    "c = {3, '0', True, None, 1.4, \"Sim\" }\n",
    "print(c)"
   ]
  },
  {
   "cell_type": "markdown",
   "metadata": {},
   "source": [
    "## METODOS"
   ]
  },
  {
   "cell_type": "markdown",
   "metadata": {},
   "source": [
    "ADD() - Adicionando itens"
   ]
  },
  {
   "cell_type": "code",
   "execution_count": 1,
   "metadata": {},
   "outputs": [
    {
     "name": "stdout",
     "output_type": "stream",
     "text": [
      "{'Marcela', 'Maria', 'Eduarda', 'João'}\n"
     ]
    }
   ],
   "source": [
    "convidados = {'João', 'Maria', 'Eduarda'}\n",
    "convidados.add('Marcela')\n",
    "\n",
    "print(convidados)"
   ]
  },
  {
   "cell_type": "markdown",
   "metadata": {},
   "source": [
    "### UPDATE()"
   ]
  },
  {
   "cell_type": "markdown",
   "metadata": {},
   "source": [
    " Adicionar itens de outro conjunto ao set especificado podemos utilizar o metodo update()"
   ]
  },
  {
   "cell_type": "code",
   "execution_count": 2,
   "metadata": {},
   "outputs": [
    {
     "name": "stdout",
     "output_type": "stream",
     "text": [
      "{10, 11, 12, 13, 14, 15}\n"
     ]
    }
   ],
   "source": [
    "ids = {10, 12, 13, 14}\n",
    "novos_ids = {11, 13, 15}\n",
    "\n",
    "ids.update(novos_ids)\n",
    "\n",
    "print(ids)"
   ]
  },
  {
   "cell_type": "markdown",
   "metadata": {},
   "source": [
    "### REMOVE() - Remover itens"
   ]
  },
  {
   "cell_type": "code",
   "execution_count": 3,
   "metadata": {},
   "outputs": [
    {
     "name": "stdout",
     "output_type": "stream",
     "text": [
      "{'leite', 'pao'}\n"
     ]
    }
   ],
   "source": [
    "sacola = {'queijo', 'pao', 'leite'}\n",
    "sacola.remove('queijo')\n",
    "\n",
    "print(sacola)"
   ]
  },
  {
   "cell_type": "markdown",
   "metadata": {},
   "source": [
    "### DISCARD() - remover itens"
   ]
  },
  {
   "cell_type": "code",
   "execution_count": 4,
   "metadata": {},
   "outputs": [
    {
     "name": "stdout",
     "output_type": "stream",
     "text": [
      "{'leite', 'pao'}\n"
     ]
    }
   ],
   "source": [
    "sacola = {'queijo', 'pao', 'leite'}\n",
    "sacola.discard('queijo')\n",
    "\n",
    "print(sacola)"
   ]
  },
  {
   "cell_type": "markdown",
   "metadata": {},
   "source": [
    "### ISDIJOINT()"
   ]
  },
  {
   "cell_type": "markdown",
   "metadata": {},
   "source": [
    "Verifica se dois conjuntos são disjuntos, ou seja, não possuem nenhum elemento em comum"
   ]
  },
  {
   "cell_type": "code",
   "execution_count": 4,
   "metadata": {},
   "outputs": [
    {
     "name": "stdout",
     "output_type": "stream",
     "text": [
      "True\n"
     ]
    }
   ],
   "source": [
    "sacola1 = {'queijo', 'pao', 'leite'}\n",
    "sacola2 = {'ovo'}\n",
    "print(sacola1.isdisjoint(sacola2))"
   ]
  },
  {
   "cell_type": "markdown",
   "metadata": {},
   "source": [
    "### ISSUBSET"
   ]
  },
  {
   "cell_type": "markdown",
   "metadata": {},
   "source": [
    "Verifica se um conjunto é subconjunto de outro"
   ]
  },
  {
   "cell_type": "code",
   "execution_count": 7,
   "metadata": {},
   "outputs": [
    {
     "name": "stdout",
     "output_type": "stream",
     "text": [
      "True\n",
      "False\n"
     ]
    }
   ],
   "source": [
    "sacola1 = {'queijo', 'pao', 'leite'}\n",
    "sacola2 = {'pao'}\n",
    "print(sacola2.issubset(sacola1))\n",
    "print(sacola1.issubset(sacola2))"
   ]
  },
  {
   "cell_type": "markdown",
   "metadata": {},
   "source": [
    "## OPERAÇÕES MATEMÁTICAS"
   ]
  },
  {
   "cell_type": "markdown",
   "metadata": {},
   "source": [
    "### INTERSEÇÃO"
   ]
  },
  {
   "cell_type": "markdown",
   "metadata": {},
   "source": [
    "O método intersection() retorna um conjunto contendo APENAS os itens presentes em ambos:"
   ]
  },
  {
   "cell_type": "code",
   "execution_count": 5,
   "metadata": {},
   "outputs": [
    {
     "name": "stdout",
     "output_type": "stream",
     "text": [
      "{'Maça'}\n",
      "{'Maça'}\n"
     ]
    }
   ],
   "source": [
    "sacola1 = {'Banana', 'Maça', 'Abacate'}\n",
    "sacola2 = {'Laranja', 'Pera', 'Maça'}\n",
    "\n",
    "print(sacola1.intersection(sacola2))\n",
    "\n",
    "print(sacola1 & sacola2)"
   ]
  },
  {
   "cell_type": "markdown",
   "metadata": {},
   "source": [
    "### UNIAO"
   ]
  },
  {
   "cell_type": "markdown",
   "metadata": {},
   "source": [
    "O método union() retorna um novo conjunto contento todos os itens de ambos conjuntos de entrada."
   ]
  },
  {
   "cell_type": "code",
   "execution_count": 7,
   "metadata": {},
   "outputs": [
    {
     "name": "stdout",
     "output_type": "stream",
     "text": [
      "{1, 2, 3, 'x', 'a', 'z'}\n",
      "{1, 2, 3, 'x', 'a', 'z'}\n"
     ]
    }
   ],
   "source": [
    "set1 = {1, 2, 3}\n",
    "set2 = {'z', 'x', 'a'}\n",
    "\n",
    "print(set1.union(set2))\n",
    "\n",
    "print(set1 | set2)"
   ]
  },
  {
   "cell_type": "markdown",
   "metadata": {},
   "source": [
    "### DIFERENÇA"
   ]
  },
  {
   "cell_type": "markdown",
   "metadata": {},
   "source": [
    "O método difference() retorna a diferença, ou seja os valores que existem em um set, e não no outro:"
   ]
  },
  {
   "cell_type": "code",
   "execution_count": 8,
   "metadata": {},
   "outputs": [
    {
     "name": "stdout",
     "output_type": "stream",
     "text": [
      "{'Banana', 'Abacate'}\n",
      "{'Banana', 'Abacate'}\n"
     ]
    }
   ],
   "source": [
    "sacola1 = {'Banana', 'Maça', 'Abacate'}\n",
    "sacola2 = {'Laranja', 'Pera', 'Maça'}\n",
    "\n",
    "print(sacola1.difference(sacola2))\n",
    "\n",
    "print(sacola1 - sacola2)"
   ]
  }
 ],
 "metadata": {
  "kernelspec": {
   "display_name": "Python 3.10.5 64-bit",
   "language": "python",
   "name": "python3"
  },
  "language_info": {
   "codemirror_mode": {
    "name": "ipython",
    "version": 3
   },
   "file_extension": ".py",
   "mimetype": "text/x-python",
   "name": "python",
   "nbconvert_exporter": "python",
   "pygments_lexer": "ipython3",
   "version": "3.10.5"
  },
  "orig_nbformat": 4,
  "vscode": {
   "interpreter": {
    "hash": "d1d9262175893a3f9c089c524f593192d5b8538f6ec9ef6d8235214e3dc272a1"
   }
  }
 },
 "nbformat": 4,
 "nbformat_minor": 2
}
