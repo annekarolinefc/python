{
  "nbformat": 4,
  "nbformat_minor": 0,
  "metadata": {
    "colab": {
      "name": "Python-comecando-com-a-linguagem.ipynb",
      "provenance": []
    },
    "kernelspec": {
      "name": "python3",
      "display_name": "Python 3"
    },
    "language_info": {
      "name": "python"
    }
  },
  "cells": [
    {
      "cell_type": "markdown",
      "source": [
        "# Variáveis e Tipagem do Python"
      ],
      "metadata": {
        "id": "JJmdbRVj4mSq"
      }
    },
    {
      "cell_type": "markdown",
      "source": [
        "Uma variável só passa a existir quando atribuimos um valor, definindo assim o seu tipo."
      ],
      "metadata": {
        "id": "LD-cfxRu9qLV"
      }
    },
    {
      "cell_type": "code",
      "source": [
        "nome = 'Anne'\n",
        "idade = 29\n",
        "podeDirigir = True\n",
        "saldo = 99,9\n",
        "\n",
        "print(f'{nome} é do tipo: ', type(nome))\n",
        "print(f'{idade} é do tipo: ', type(idade))\n",
        "print(f'{podeDirigir} é do tipo: ', type(podeDirigir))\n",
        "print(f'{saldo} é do tipo: ', type(saldo))"
      ],
      "metadata": {
        "colab": {
          "base_uri": "https://localhost:8080/"
        },
        "id": "gfpOMn6441ZT",
        "outputId": "e4519551-8689-4181-a6d9-2234ea75bc2d"
      },
      "execution_count": 5,
      "outputs": [
        {
          "output_type": "stream",
          "name": "stdout",
          "text": [
            "Anne é do tipo:  <class 'str'>\n",
            "29 é do tipo:  <class 'int'>\n",
            "True é do tipo:  <class 'bool'>\n",
            "(99, 9) é do tipo:  <class 'tuple'>\n"
          ]
        }
      ]
    },
    {
      "cell_type": "markdown",
      "source": [
        "# Função print()"
      ],
      "metadata": {
        "id": "y9lUMBAQ4odS"
      }
    },
    {
      "cell_type": "markdown",
      "source": [
        "Função utilizada para imprimir algo na tela"
      ],
      "metadata": {
        "id": "_8P4fjua6esR"
      }
    },
    {
      "cell_type": "code",
      "source": [
        "print('Olá')\n",
        "print(29)"
      ],
      "metadata": {
        "colab": {
          "base_uri": "https://localhost:8080/"
        },
        "id": "daK4F6B14reM",
        "outputId": "8dfe4ce7-3520-4eb3-ec8f-ea0ef47b7097"
      },
      "execution_count": 1,
      "outputs": [
        {
          "output_type": "stream",
          "name": "stdout",
          "text": [
            "Olá\n",
            "29\n"
          ]
        }
      ]
    },
    {
      "cell_type": "code",
      "source": [
        "print('Brasil ganhou 5 titulos mundiais')\n",
        "print('Brasil', 'ganhou', 5, 'titulos mundiais', sep='-')\n",
        "print('Brasil', 'ganhou',5 , 'titulos mundiais', sep='')\n",
        "print('Brasil', 'ganhou',5 , 'titulos mundiais', end='\\n') #pular linha\n",
        "print('Brasil', 'ganhou',5 , 'titulos mundiais', end='') #pular linha"
      ],
      "metadata": {
        "colab": {
          "base_uri": "https://localhost:8080/"
        },
        "id": "HJTlyFkj44_Q",
        "outputId": "b64edbea-8611-487a-b480-d14f229b9e19"
      },
      "execution_count": 4,
      "outputs": [
        {
          "output_type": "stream",
          "name": "stdout",
          "text": [
            "Brasil ganhou 5 titulos mundiais\n",
            "Brasil-ganhou-5-titulos mundiais\n",
            "Brasilganhou5titulos mundiais\n",
            "Brasil ganhou 5 titulos mundiais\n",
            "Brasil ganhou 5 titulos mundiais"
          ]
        }
      ]
    },
    {
      "cell_type": "code",
      "source": [
        "pais = 'Itália'\n",
        "quantidade = 4\n",
        "print(pais, \"ganhou\", quantidade, 'titulos mundiais')"
      ],
      "metadata": {
        "colab": {
          "base_uri": "https://localhost:8080/"
        },
        "id": "bb-89_ZC6EWJ",
        "outputId": "041d5965-7297-444e-f24c-99d1e61f45f8"
      },
      "execution_count": 7,
      "outputs": [
        {
          "output_type": "stream",
          "name": "stdout",
          "text": [
            "Itália ganhou 4 titulos mundiais\n"
          ]
        }
      ]
    },
    {
      "cell_type": "code",
      "source": [
        "subst = \"Python\"\n",
        "verbo = \"é\"\n",
        "adjetivo = \"fantástico\"\n",
        "print(subst, verbo, adjetivo, sep=\"_\", end=\"!\\n\")"
      ],
      "metadata": {
        "colab": {
          "base_uri": "https://localhost:8080/"
        },
        "id": "QCOKgDGk6np9",
        "outputId": "a830d135-1b81-452f-a84e-60fabde36cfa"
      },
      "execution_count": 8,
      "outputs": [
        {
          "output_type": "stream",
          "name": "stdout",
          "text": [
            "Python_é_fantástico!\n"
          ]
        }
      ]
    },
    {
      "cell_type": "code",
      "source": [
        "dia = 15\n",
        "mes = 10\n",
        "ano = 2015\n",
        "print(dia, mes, ano, sep='/')"
      ],
      "metadata": {
        "colab": {
          "base_uri": "https://localhost:8080/"
        },
        "id": "Xop45Jeb6uRl",
        "outputId": "f7ef6f46-d7c0-4465-a0c5-d41af26ccd90"
      },
      "execution_count": 9,
      "outputs": [
        {
          "output_type": "stream",
          "name": "stdout",
          "text": [
            "15/10/2015\n"
          ]
        }
      ]
    },
    {
      "cell_type": "markdown",
      "source": [
        "# Comparando variáveis"
      ],
      "metadata": {
        "id": "iRp3L7r-9_SE"
      }
    },
    {
      "cell_type": "code",
      "source": [
        "print('***********************')\n",
        "print('Bem vindo no jogo de adivinhação')\n",
        "print('*********************** \\n')\n",
        "\n",
        "numero_secreto = 12\n",
        "chute = input(\"Digite o seu numero: \")\n",
        "print('Você digitou', chute)\n",
        "\n",
        "if numero_secreto == int(chute):\n",
        "  print('Você acertou! \\n')\n",
        "else:\n",
        "  print('Você não acertou. \\n')\n",
        "\n",
        "print('Fim do jogo!')"
      ],
      "metadata": {
        "colab": {
          "base_uri": "https://localhost:8080/"
        },
        "id": "MDFRo0DC-B4F",
        "outputId": "72cc4113-53e3-4cf6-e489-62fb115c9c93"
      },
      "execution_count": 15,
      "outputs": [
        {
          "output_type": "stream",
          "name": "stdout",
          "text": [
            "***********************\n",
            "Bem vindo no jogo de adivinhação\n",
            "*********************** \n",
            "\n",
            "Digite o seu numero: 12\n",
            "Você digitou 12\n",
            "Você acertou! \n",
            "\n",
            "Fim do jogo!\n"
          ]
        }
      ]
    }
  ]
}